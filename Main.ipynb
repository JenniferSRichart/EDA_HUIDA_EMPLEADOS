{
 "cells": [
  {
   "cell_type": "markdown",
   "source": [
    "# EDA Huida del talento y falta de Personal, en el Sector hostelero\u000bpost-COVID\n",
    "## Caso de Estudio: Madrid\n",
    "\n",
    "Elaborado por: Jennifer Sánchez-Richart"
   ],
   "metadata": {}
  },
  {
   "cell_type": "markdown",
   "source": [
    "Expertos hoteleros están presentando una realidad nunca vista, la huida del talento y escases de personal en el área del sector turístico, post-COVID , en dicho estudio se hará referencia específicamente a la Hostelería en la ciudad de Madrid. Problemática que al estar la ocupación de los hoteles muy bajo no se acentúa tanto como lo será en los próximos meses.\n",
    "\n",
    "Tal como nos comenta Gonzalo Armenteros el CEO de Soho Boutique Hotels, en su entrevista por Hosteltur (8/10/2021) “Hay que trabajar el cliente interno porque sin el no habrá cliente externo”, entendiendo por cliente interno al capital humano del sector de Hostelería. \n",
    "\n",
    "Distintas cadenas hoteleras están buscando soluciones para mantener a sus empleados e intentar volver a tener ese capital humano capacitado de vuelta, luego de los ERTEs, o paro (si tenían contratos parciales). Pero la realidad es que ya se han fugado a otros sectores que les ofrece mejor calidad de vida, mejor salario y mejores condiciones.\n",
    "\n",
    "![imagen](Articulo_fuga_talento.png)"
   ],
   "metadata": {}
  },
  {
   "cell_type": "markdown",
   "source": [
    "************* * *************"
   ],
   "metadata": {}
  },
  {
   "cell_type": "markdown",
   "source": [
    "## Contenido del Notebook"
   ],
   "metadata": {}
  },
  {
   "cell_type": "markdown",
   "source": [
    "### Parte 1: Variables e Hipótesis \n",
    " "
   ],
   "metadata": {}
  },
  {
   "cell_type": "markdown",
   "source": [
    "### Parte 2: Verificación y modificación de los datos"
   ],
   "metadata": {}
  },
  {
   "cell_type": "markdown",
   "source": [
    "### Parte 2: Creación de visualizaciones y analisis"
   ],
   "metadata": {}
  },
  {
   "cell_type": "markdown",
   "source": [
    "************* * *************"
   ],
   "metadata": {}
  },
  {
   "cell_type": "markdown",
   "source": [
    "## Parte 1: Variables e Hipótesis "
   ],
   "metadata": {}
  },
  {
   "cell_type": "markdown",
   "source": [
    "## Variables:\n",
    "Variable Independiente (causa) : bajo nivel de motivación, horarios del sector hostelero, tiempo libre, conciliación familiar (Esta variable es cualitativa y seria difícil de comprobar).\n",
    "\n",
    "Variable Dependiente (efecto): El desempleo aumenta en el sector  hotelero y el talento busca alternativas fuera de la industria.\n",
    "\n",
    "Variable interviniente : Ocupación hotelera, Personal contratado, Tasa de paro, Tasa de ERTEs, Tasa de afectados por COVID. "
   ],
   "metadata": {}
  },
  {
   "cell_type": "markdown",
   "source": [
    "## Hipótesis :\n",
    "El personal contratado en Hostelería ha bajado en relación a la ocupación hotelera y al ADR , la alta tasa de ERTEs no justifican esta bajada, a su vez se han incrementado el personal contratado en otros sectores."
   ],
   "metadata": {}
  },
  {
   "cell_type": "markdown",
   "source": [
    "ADR = Tarifa Diaria Promedio /\n",
    "ERTE = Expediente de Regulación Temporal de Empleo"
   ],
   "metadata": {}
  },
  {
   "cell_type": "markdown",
   "source": [
    "*********************"
   ],
   "metadata": {}
  },
  {
   "cell_type": "markdown",
   "source": [
    "## Parte 2: Verificación y modificación de los datos"
   ],
   "metadata": {}
  },
  {
   "cell_type": "code",
   "execution_count": 1,
   "source": [
    "import numpy as np \n",
    "import pandas as pd\n",
    "import matplotlib.pyplot as plt\n",
    "import plotly as py\n",
    "import plotly.graph_objs as go\n",
    "from plotly.offline import init_notebook_mode, iplot, plot\n",
    "import seaborn as sns\n",
    "from sklearn import preprocessing\n",
    "from sklearn.datasets import load_boston, load_iris\n",
    "plt.style.use('fivethirtyeight')\n",
    "\n",
    "# Algunas configuraciones de los paquetes\n",
    "sns.set(color_codes = True)\n",
    "pd.set_option(\"display.max_rows\", 500)\n",
    "\n",
    "# para eliminar los warnings\n",
    "import warnings\n",
    "warnings.filterwarnings(\"ignore\")\n",
    "\n",
    "%matplotlib inline"
   ],
   "outputs": [],
   "metadata": {}
  },
  {
   "cell_type": "markdown",
   "source": [
    "## Datos disponibles\n",
    "Para confirmar o refutar la hipótesis se buscaron datos en distintas fuentes, como por ejemplo en el Instituto Nacional de Estadísticas (INE),  World Turism Organization,  DATAESTUR.es - Información de la actividad Turística de España, EpDATA.es – Europa Press, Eurostat – European Statistic, Travelgatex, Skyscanner, entre otras. "
   ],
   "metadata": {}
  },
  {
   "cell_type": "markdown",
   "source": [
    "## Verificamos informacion disponible"
   ],
   "metadata": {}
  },
  {
   "cell_type": "markdown",
   "source": [
    "Tal como podemos ver, los datos mayoritariamente estaban en formatos de csv o xlsx, nuestra columna de referencia común para todos: fue la fecha, lo que ayudo a la comparativa de los mismos. Si bien, no se usaron todos los datos, nos sirvió de referencia a la hora de extraer información pertinente."
   ],
   "metadata": {}
  },
  {
   "cell_type": "code",
   "execution_count": 13,
   "source": [
    "df_empleados_hosteleria = pd.read_csv('nº_de_personas_empleadas_en_establecimientos_hoteleros_en_madrid.csv',\n",
    "                encoding = 'latin-1', sep = \";\")\n",
    "df_empleados_hosteleria.head(3)"
   ],
   "outputs": [
    {
     "output_type": "execute_result",
     "data": {
      "text/html": [
       "<div>\n",
       "<style scoped>\n",
       "    .dataframe tbody tr th:only-of-type {\n",
       "        vertical-align: middle;\n",
       "    }\n",
       "\n",
       "    .dataframe tbody tr th {\n",
       "        vertical-align: top;\n",
       "    }\n",
       "\n",
       "    .dataframe thead th {\n",
       "        text-align: right;\n",
       "    }\n",
       "</style>\n",
       "<table border=\"1\" class=\"dataframe\">\n",
       "  <thead>\n",
       "    <tr style=\"text-align: right;\">\n",
       "      <th></th>\n",
       "      <th>ï»¿Year_Q</th>\n",
       "      <th>Num_de_trabajadores</th>\n",
       "    </tr>\n",
       "  </thead>\n",
       "  <tbody>\n",
       "    <tr>\n",
       "      <th>0</th>\n",
       "      <td>2017-3</td>\n",
       "      <td>34353</td>\n",
       "    </tr>\n",
       "    <tr>\n",
       "      <th>1</th>\n",
       "      <td>2017-4</td>\n",
       "      <td>34965</td>\n",
       "    </tr>\n",
       "    <tr>\n",
       "      <th>2</th>\n",
       "      <td>2018-1</td>\n",
       "      <td>34857</td>\n",
       "    </tr>\n",
       "  </tbody>\n",
       "</table>\n",
       "</div>"
      ],
      "text/plain": [
       "  ï»¿Year_Q  Num_de_trabajadores\n",
       "0    2017-3                34353\n",
       "1    2017-4                34965\n",
       "2    2018-1                34857"
      ]
     },
     "metadata": {},
     "execution_count": 13
    }
   ],
   "metadata": {}
  },
  {
   "cell_type": "code",
   "execution_count": 12,
   "source": [
    "df_empleados_hosteleria.info()"
   ],
   "outputs": [
    {
     "output_type": "stream",
     "name": "stdout",
     "text": [
      "<class 'pandas.core.frame.DataFrame'>\n",
      "RangeIndex: 17 entries, 0 to 16\n",
      "Data columns (total 2 columns):\n",
      " #   Column               Non-Null Count  Dtype \n",
      "---  ------               --------------  ----- \n",
      " 0   ï»¿Year_Q            17 non-null     object\n",
      " 1   Num_de_trabajadores  17 non-null     int64 \n",
      "dtypes: int64(1), object(1)\n",
      "memory usage: 400.0+ bytes\n"
     ]
    }
   ],
   "metadata": {}
  },
  {
   "cell_type": "code",
   "execution_count": 14,
   "source": [
    "df_alta_laboral = pd.read_excel(\"Afiliados en alta laboral act. carac. turismo.xlsx\", sheet_name =\"Empleo turístico según afiliaci\")\n",
    "#df_alta_laboral_q = df_alta_laboral.groupby(\"Year_Q\").sum()\n",
    "df_alta_laboral.head(3)"
   ],
   "outputs": [
    {
     "output_type": "execute_result",
     "data": {
      "text/html": [
       "<div>\n",
       "<style scoped>\n",
       "    .dataframe tbody tr th:only-of-type {\n",
       "        vertical-align: middle;\n",
       "    }\n",
       "\n",
       "    .dataframe tbody tr th {\n",
       "        vertical-align: top;\n",
       "    }\n",
       "\n",
       "    .dataframe thead th {\n",
       "        text-align: right;\n",
       "    }\n",
       "</style>\n",
       "<table border=\"1\" class=\"dataframe\">\n",
       "  <thead>\n",
       "    <tr style=\"text-align: right;\">\n",
       "      <th></th>\n",
       "      <th>Year</th>\n",
       "      <th>Month</th>\n",
       "      <th>Year_Month</th>\n",
       "      <th>Afiliados_total</th>\n",
       "      <th>Hosteleria</th>\n",
       "      <th>Alojamiento</th>\n",
       "      <th>Agencias</th>\n",
       "      <th>Comidas</th>\n",
       "    </tr>\n",
       "  </thead>\n",
       "  <tbody>\n",
       "    <tr>\n",
       "      <th>0</th>\n",
       "      <td>2001</td>\n",
       "      <td>1</td>\n",
       "      <td>2001-1</td>\n",
       "      <td>1407477</td>\n",
       "      <td>952914</td>\n",
       "      <td>173666</td>\n",
       "      <td>41416</td>\n",
       "      <td>737832</td>\n",
       "    </tr>\n",
       "    <tr>\n",
       "      <th>1</th>\n",
       "      <td>2001</td>\n",
       "      <td>2</td>\n",
       "      <td>2001-2</td>\n",
       "      <td>1434053</td>\n",
       "      <td>974590</td>\n",
       "      <td>183577</td>\n",
       "      <td>42143</td>\n",
       "      <td>748870</td>\n",
       "    </tr>\n",
       "    <tr>\n",
       "      <th>2</th>\n",
       "      <td>2001</td>\n",
       "      <td>3</td>\n",
       "      <td>2001-3</td>\n",
       "      <td>1480924</td>\n",
       "      <td>1014282</td>\n",
       "      <td>205157</td>\n",
       "      <td>43496</td>\n",
       "      <td>765629</td>\n",
       "    </tr>\n",
       "  </tbody>\n",
       "</table>\n",
       "</div>"
      ],
      "text/plain": [
       "   Year  Month Year_Month  Afiliados_total  Hosteleria  Alojamiento  Agencias  \\\n",
       "0  2001      1     2001-1          1407477      952914       173666     41416   \n",
       "1  2001      2     2001-2          1434053      974590       183577     42143   \n",
       "2  2001      3     2001-3          1480924     1014282       205157     43496   \n",
       "\n",
       "   Comidas  \n",
       "0   737832  \n",
       "1   748870  \n",
       "2   765629  "
      ]
     },
     "metadata": {},
     "execution_count": 14
    }
   ],
   "metadata": {}
  },
  {
   "cell_type": "code",
   "execution_count": 16,
   "source": [
    "df_alta_laboral.info()"
   ],
   "outputs": [
    {
     "output_type": "stream",
     "name": "stdout",
     "text": [
      "<class 'pandas.core.frame.DataFrame'>\n",
      "RangeIndex: 248 entries, 0 to 247\n",
      "Data columns (total 8 columns):\n",
      " #   Column           Non-Null Count  Dtype \n",
      "---  ------           --------------  ----- \n",
      " 0   Year             248 non-null    int64 \n",
      " 1   Month            248 non-null    int64 \n",
      " 2   Year_Month       248 non-null    object\n",
      " 3   Afiliados_total  248 non-null    int64 \n",
      " 4   Hosteleria       248 non-null    int64 \n",
      " 5   Alojamiento      248 non-null    int64 \n",
      " 6   Agencias         248 non-null    int64 \n",
      " 7   Comidas          248 non-null    int64 \n",
      "dtypes: int64(7), object(1)\n",
      "memory usage: 15.6+ KB\n"
     ]
    }
   ],
   "metadata": {}
  },
  {
   "cell_type": "code",
   "execution_count": 15,
   "source": [
    "df_Occ_ADR =pd.read_excel('Datos_Hoteles_Occ_ADR.xlsx', sheet_name = \"Sheet1\")\n",
    "df_Occ_ADR.head(3)"
   ],
   "outputs": [
    {
     "output_type": "execute_result",
     "data": {
      "text/html": [
       "<div>\n",
       "<style scoped>\n",
       "    .dataframe tbody tr th:only-of-type {\n",
       "        vertical-align: middle;\n",
       "    }\n",
       "\n",
       "    .dataframe tbody tr th {\n",
       "        vertical-align: top;\n",
       "    }\n",
       "\n",
       "    .dataframe thead th {\n",
       "        text-align: right;\n",
       "    }\n",
       "</style>\n",
       "<table border=\"1\" class=\"dataframe\">\n",
       "  <thead>\n",
       "    <tr style=\"text-align: right;\">\n",
       "      <th></th>\n",
       "      <th>Year_Q</th>\n",
       "      <th>Emple_estab_hotel_Mad</th>\n",
       "      <th>Occ_Hot_Madrid</th>\n",
       "      <th>ADR_Madrid</th>\n",
       "    </tr>\n",
       "  </thead>\n",
       "  <tbody>\n",
       "    <tr>\n",
       "      <th>0</th>\n",
       "      <td>2017-3</td>\n",
       "      <td>34353</td>\n",
       "      <td>64.09</td>\n",
       "      <td>84.380000</td>\n",
       "    </tr>\n",
       "    <tr>\n",
       "      <th>1</th>\n",
       "      <td>2017-4</td>\n",
       "      <td>34965</td>\n",
       "      <td>63.05</td>\n",
       "      <td>89.013333</td>\n",
       "    </tr>\n",
       "    <tr>\n",
       "      <th>2</th>\n",
       "      <td>2018-1</td>\n",
       "      <td>34857</td>\n",
       "      <td>59.00</td>\n",
       "      <td>85.616667</td>\n",
       "    </tr>\n",
       "  </tbody>\n",
       "</table>\n",
       "</div>"
      ],
      "text/plain": [
       "   Year_Q  Emple_estab_hotel_Mad  Occ_Hot_Madrid  ADR_Madrid\n",
       "0  2017-3                  34353           64.09   84.380000\n",
       "1  2017-4                  34965           63.05   89.013333\n",
       "2  2018-1                  34857           59.00   85.616667"
      ]
     },
     "metadata": {},
     "execution_count": 15
    }
   ],
   "metadata": {}
  },
  {
   "cell_type": "code",
   "execution_count": 8,
   "source": [
    "df_Occ_ADR.info()"
   ],
   "outputs": [
    {
     "output_type": "stream",
     "name": "stdout",
     "text": [
      "<class 'pandas.core.frame.DataFrame'>\n",
      "RangeIndex: 17 entries, 0 to 16\n",
      "Data columns (total 4 columns):\n",
      " #   Column                 Non-Null Count  Dtype  \n",
      "---  ------                 --------------  -----  \n",
      " 0   Year_Q                 17 non-null     object \n",
      " 1   Emple_estab_hotel_Mad  17 non-null     int64  \n",
      " 2   Occ_Hot_Madrid         17 non-null     float64\n",
      " 3   ADR_Madrid             17 non-null     float64\n",
      "dtypes: float64(2), int64(1), object(1)\n",
      "memory usage: 672.0+ bytes\n"
     ]
    }
   ],
   "metadata": {}
  },
  {
   "cell_type": "code",
   "execution_count": 9,
   "source": [
    "df_Salarios_Sector =pd.read_excel('Salarios_Sector_2017_INE.xlsx', sheet_name = \"Salarios\")\n",
    "df_Salarios_Sector.head()"
   ],
   "outputs": [
    {
     "output_type": "execute_result",
     "data": {
      "text/html": [
       "<div>\n",
       "<style scoped>\n",
       "    .dataframe tbody tr th:only-of-type {\n",
       "        vertical-align: middle;\n",
       "    }\n",
       "\n",
       "    .dataframe tbody tr th {\n",
       "        vertical-align: top;\n",
       "    }\n",
       "\n",
       "    .dataframe thead th {\n",
       "        text-align: right;\n",
       "    }\n",
       "</style>\n",
       "<table border=\"1\" class=\"dataframe\">\n",
       "  <thead>\n",
       "    <tr style=\"text-align: right;\">\n",
       "      <th></th>\n",
       "      <th>Actividades</th>\n",
       "      <th>Mujeres</th>\n",
       "      <th>Hombres</th>\n",
       "    </tr>\n",
       "  </thead>\n",
       "  <tbody>\n",
       "    <tr>\n",
       "      <th>0</th>\n",
       "      <td>I Hostelería</td>\n",
       "      <td>13161.3</td>\n",
       "      <td>16138.9</td>\n",
       "    </tr>\n",
       "    <tr>\n",
       "      <th>1</th>\n",
       "      <td>Actividades administrativas</td>\n",
       "      <td>13604.1</td>\n",
       "      <td>20174.9</td>\n",
       "    </tr>\n",
       "    <tr>\n",
       "      <th>2</th>\n",
       "      <td>Actividades artísticas, recreativas y de entre...</td>\n",
       "      <td>15526.4</td>\n",
       "      <td>19406.7</td>\n",
       "    </tr>\n",
       "    <tr>\n",
       "      <th>3</th>\n",
       "      <td>Comercio al por mayor y al por menor</td>\n",
       "      <td>17377.7</td>\n",
       "      <td>23829.7</td>\n",
       "    </tr>\n",
       "    <tr>\n",
       "      <th>4</th>\n",
       "      <td>Actividades inmobiliarias</td>\n",
       "      <td>18488.3</td>\n",
       "      <td>25392.8</td>\n",
       "    </tr>\n",
       "  </tbody>\n",
       "</table>\n",
       "</div>"
      ],
      "text/plain": [
       "                                         Actividades  Mujeres  Hombres\n",
       "0                                       I Hostelería  13161.3  16138.9\n",
       "1                       Actividades administrativas   13604.1  20174.9\n",
       "2  Actividades artísticas, recreativas y de entre...  15526.4  19406.7\n",
       "3               Comercio al por mayor y al por menor  17377.7  23829.7\n",
       "4                          Actividades inmobiliarias  18488.3  25392.8"
      ]
     },
     "metadata": {},
     "execution_count": 9
    }
   ],
   "metadata": {}
  },
  {
   "cell_type": "code",
   "execution_count": 4,
   "source": [
    "df_Salarios_Sector.info()"
   ],
   "outputs": [
    {
     "output_type": "stream",
     "name": "stdout",
     "text": [
      "<class 'pandas.core.frame.DataFrame'>\n",
      "RangeIndex: 14 entries, 0 to 13\n",
      "Data columns (total 3 columns):\n",
      " #   Column        Non-Null Count  Dtype  \n",
      "---  ------        --------------  -----  \n",
      " 0    Actividades  14 non-null     object \n",
      " 1   Mujeres       14 non-null     float64\n",
      " 2   Hombres       14 non-null     float64\n",
      "dtypes: float64(2), object(1)\n",
      "memory usage: 464.0+ bytes\n"
     ]
    }
   ],
   "metadata": {}
  },
  {
   "cell_type": "code",
   "execution_count": 43,
   "source": [
    "df_tabla_salarios= pd.read_excel(\"Salarios_sector_2017_INE.xlsx\", sheet_name =\"Salarios\",index_col = 0)\n",
    "df_tabla_salarios.head(3)"
   ],
   "outputs": [
    {
     "output_type": "execute_result",
     "data": {
      "text/html": [
       "<div>\n",
       "<style scoped>\n",
       "    .dataframe tbody tr th:only-of-type {\n",
       "        vertical-align: middle;\n",
       "    }\n",
       "\n",
       "    .dataframe tbody tr th {\n",
       "        vertical-align: top;\n",
       "    }\n",
       "\n",
       "    .dataframe thead th {\n",
       "        text-align: right;\n",
       "    }\n",
       "</style>\n",
       "<table border=\"1\" class=\"dataframe\">\n",
       "  <thead>\n",
       "    <tr style=\"text-align: right;\">\n",
       "      <th></th>\n",
       "      <th>Mujeres</th>\n",
       "      <th>Hombres</th>\n",
       "    </tr>\n",
       "    <tr>\n",
       "      <th>Actividades</th>\n",
       "      <th></th>\n",
       "      <th></th>\n",
       "    </tr>\n",
       "  </thead>\n",
       "  <tbody>\n",
       "    <tr>\n",
       "      <th>I Hostelería</th>\n",
       "      <td>13161.3</td>\n",
       "      <td>16138.9</td>\n",
       "    </tr>\n",
       "    <tr>\n",
       "      <th>Actividades administrativas</th>\n",
       "      <td>13604.1</td>\n",
       "      <td>20174.9</td>\n",
       "    </tr>\n",
       "    <tr>\n",
       "      <th>Actividades artísticas, recreativas y de entretenimiento</th>\n",
       "      <td>15526.4</td>\n",
       "      <td>19406.7</td>\n",
       "    </tr>\n",
       "  </tbody>\n",
       "</table>\n",
       "</div>"
      ],
      "text/plain": [
       "                                                    Mujeres  Hombres\n",
       " Actividades                                                        \n",
       "I Hostelería                                        13161.3  16138.9\n",
       "Actividades administrativas                         13604.1  20174.9\n",
       "Actividades artísticas, recreativas y de entret...  15526.4  19406.7"
      ]
     },
     "metadata": {},
     "execution_count": 43
    }
   ],
   "metadata": {}
  },
  {
   "cell_type": "code",
   "execution_count": 19,
   "source": [
    "df_tabla_general= pd.read_excel(\"Tabla_general.xlsx\", sheet_name =\"Tabla_general\")\n",
    "df_tabla_general.head(3)"
   ],
   "outputs": [
    {
     "output_type": "execute_result",
     "data": {
      "text/html": [
       "<div>\n",
       "<style scoped>\n",
       "    .dataframe tbody tr th:only-of-type {\n",
       "        vertical-align: middle;\n",
       "    }\n",
       "\n",
       "    .dataframe tbody tr th {\n",
       "        vertical-align: top;\n",
       "    }\n",
       "\n",
       "    .dataframe thead th {\n",
       "        text-align: right;\n",
       "    }\n",
       "</style>\n",
       "<table border=\"1\" class=\"dataframe\">\n",
       "  <thead>\n",
       "    <tr style=\"text-align: right;\">\n",
       "      <th></th>\n",
       "      <th>Year_Q</th>\n",
       "      <th>Year</th>\n",
       "      <th>Inactivos_convirtieron_parados_esp_miles</th>\n",
       "      <th>Occ_que_no _trab_paro_parcial_miles</th>\n",
       "      <th>Occ_que_no _trab_ERTE_miles</th>\n",
       "      <th>Afect_ERTE_Agricultura_miles</th>\n",
       "      <th>Afect_ERTE_Industria_miles</th>\n",
       "      <th>Afect_ERTE_Construcción_miles</th>\n",
       "      <th>Afect_ERTE_Servicios_miles</th>\n",
       "      <th>Afiliados_alta_Alojamiento</th>\n",
       "      <th>Afiliados_alta_Agencias</th>\n",
       "      <th>Afiliados_alta_Comidas</th>\n",
       "      <th>Emp_tur_Occ_%</th>\n",
       "      <th>Emp_tur_Parados_%</th>\n",
       "      <th>Estab_Abiertos_Mad</th>\n",
       "      <th>Emple_estab_hotel_Mad</th>\n",
       "      <th>Occ_Hot_Madrid</th>\n",
       "      <th>ADR_Madrid</th>\n",
       "    </tr>\n",
       "  </thead>\n",
       "  <tbody>\n",
       "    <tr>\n",
       "      <th>0</th>\n",
       "      <td>2009-1</td>\n",
       "      <td>2009</td>\n",
       "      <td>793.3</td>\n",
       "      <td>40.8</td>\n",
       "      <td>13.9</td>\n",
       "      <td>4.8</td>\n",
       "      <td>21.7</td>\n",
       "      <td>17.1</td>\n",
       "      <td>11.1</td>\n",
       "      <td>690353</td>\n",
       "      <td>174952</td>\n",
       "      <td>2934842</td>\n",
       "      <td>84.749012</td>\n",
       "      <td>15.250988</td>\n",
       "      <td>NaN</td>\n",
       "      <td>NaN</td>\n",
       "      <td>NaN</td>\n",
       "      <td>NaN</td>\n",
       "    </tr>\n",
       "    <tr>\n",
       "      <th>1</th>\n",
       "      <td>2009-2</td>\n",
       "      <td>2009</td>\n",
       "      <td>770.5</td>\n",
       "      <td>29.1</td>\n",
       "      <td>19.4</td>\n",
       "      <td>5.3</td>\n",
       "      <td>23.5</td>\n",
       "      <td>9.8</td>\n",
       "      <td>10.1</td>\n",
       "      <td>830442</td>\n",
       "      <td>177317</td>\n",
       "      <td>3031961</td>\n",
       "      <td>86.143091</td>\n",
       "      <td>13.856909</td>\n",
       "      <td>NaN</td>\n",
       "      <td>NaN</td>\n",
       "      <td>NaN</td>\n",
       "      <td>NaN</td>\n",
       "    </tr>\n",
       "    <tr>\n",
       "      <th>2</th>\n",
       "      <td>2009-3</td>\n",
       "      <td>2009</td>\n",
       "      <td>817.5</td>\n",
       "      <td>27.2</td>\n",
       "      <td>21.4</td>\n",
       "      <td>2.2</td>\n",
       "      <td>23.2</td>\n",
       "      <td>9.8</td>\n",
       "      <td>13.3</td>\n",
       "      <td>897091</td>\n",
       "      <td>174890</td>\n",
       "      <td>3062413</td>\n",
       "      <td>87.330999</td>\n",
       "      <td>12.669001</td>\n",
       "      <td>NaN</td>\n",
       "      <td>NaN</td>\n",
       "      <td>NaN</td>\n",
       "      <td>NaN</td>\n",
       "    </tr>\n",
       "  </tbody>\n",
       "</table>\n",
       "</div>"
      ],
      "text/plain": [
       "   Year_Q  Year  Inactivos_convirtieron_parados_esp_miles  \\\n",
       "0  2009-1  2009                                     793.3   \n",
       "1  2009-2  2009                                     770.5   \n",
       "2  2009-3  2009                                     817.5   \n",
       "\n",
       "   Occ_que_no _trab_paro_parcial_miles  Occ_que_no _trab_ERTE_miles  \\\n",
       "0                                 40.8                         13.9   \n",
       "1                                 29.1                         19.4   \n",
       "2                                 27.2                         21.4   \n",
       "\n",
       "   Afect_ERTE_Agricultura_miles  Afect_ERTE_Industria_miles  \\\n",
       "0                           4.8                        21.7   \n",
       "1                           5.3                        23.5   \n",
       "2                           2.2                        23.2   \n",
       "\n",
       "   Afect_ERTE_Construcción_miles  Afect_ERTE_Servicios_miles  \\\n",
       "0                           17.1                        11.1   \n",
       "1                            9.8                        10.1   \n",
       "2                            9.8                        13.3   \n",
       "\n",
       "   Afiliados_alta_Alojamiento  Afiliados_alta_Agencias  \\\n",
       "0                      690353                   174952   \n",
       "1                      830442                   177317   \n",
       "2                      897091                   174890   \n",
       "\n",
       "   Afiliados_alta_Comidas  Emp_tur_Occ_%  Emp_tur_Parados_%  \\\n",
       "0                 2934842      84.749012          15.250988   \n",
       "1                 3031961      86.143091          13.856909   \n",
       "2                 3062413      87.330999          12.669001   \n",
       "\n",
       "   Estab_Abiertos_Mad  Emple_estab_hotel_Mad  Occ_Hot_Madrid  ADR_Madrid  \n",
       "0                 NaN                    NaN             NaN         NaN  \n",
       "1                 NaN                    NaN             NaN         NaN  \n",
       "2                 NaN                    NaN             NaN         NaN  "
      ]
     },
     "metadata": {},
     "execution_count": 19
    }
   ],
   "metadata": {}
  },
  {
   "cell_type": "code",
   "execution_count": 18,
   "source": [
    "df_tabla_general.info()"
   ],
   "outputs": [
    {
     "output_type": "stream",
     "name": "stdout",
     "text": [
      "<class 'pandas.core.frame.DataFrame'>\n",
      "RangeIndex: 51 entries, 0 to 50\n",
      "Data columns (total 18 columns):\n",
      " #   Column                                    Non-Null Count  Dtype  \n",
      "---  ------                                    --------------  -----  \n",
      " 0   Year_Q                                    51 non-null     object \n",
      " 1   Year                                      51 non-null     int64  \n",
      " 2   Inactivos_convirtieron_parados_esp_miles  48 non-null     float64\n",
      " 3   Occ_que_no _trab_paro_parcial_miles       48 non-null     float64\n",
      " 4   Occ_que_no _trab_ERTE_miles               51 non-null     float64\n",
      " 5   Afect_ERTE_Agricultura_miles              48 non-null     float64\n",
      " 6   Afect_ERTE_Industria_miles                48 non-null     float64\n",
      " 7   Afect_ERTE_Construcción_miles             48 non-null     float64\n",
      " 8   Afect_ERTE_Servicios_miles                48 non-null     float64\n",
      " 9   Afiliados_alta_Alojamiento                51 non-null     int64  \n",
      " 10  Afiliados_alta_Agencias                   51 non-null     int64  \n",
      " 11  Afiliados_alta_Comidas                    51 non-null     int64  \n",
      " 12  Emp_tur_Occ_%                             48 non-null     float64\n",
      " 13  Emp_tur_Parados_%                         48 non-null     float64\n",
      " 14  Estab_Abiertos_Mad                        34 non-null     float64\n",
      " 15  Emple_estab_hotel_Mad                     17 non-null     float64\n",
      " 16  Occ_Hot_Madrid                            17 non-null     float64\n",
      " 17  ADR_Madrid                                19 non-null     float64\n",
      "dtypes: float64(13), int64(4), object(1)\n",
      "memory usage: 7.3+ KB\n"
     ]
    }
   ],
   "metadata": {}
  },
  {
   "cell_type": "code",
   "execution_count": 20,
   "source": [
    "df_tabla_general.isnull().sum()"
   ],
   "outputs": [
    {
     "output_type": "execute_result",
     "data": {
      "text/plain": [
       "Year_Q                                       0\n",
       "Year                                         0\n",
       "Inactivos_convirtieron_parados_esp_miles     3\n",
       "Occ_que_no _trab_paro_parcial_miles          3\n",
       "Occ_que_no _trab_ERTE_miles                  0\n",
       "Afect_ERTE_Agricultura_miles                 3\n",
       "Afect_ERTE_Industria_miles                   3\n",
       "Afect_ERTE_Construcción_miles                3\n",
       "Afect_ERTE_Servicios_miles                   3\n",
       "Afiliados_alta_Alojamiento                   0\n",
       "Afiliados_alta_Agencias                      0\n",
       "Afiliados_alta_Comidas                       0\n",
       "Emp_tur_Occ_%                                3\n",
       "Emp_tur_Parados_%                            3\n",
       "Estab_Abiertos_Mad                          17\n",
       "Emple_estab_hotel_Mad                       34\n",
       "Occ_Hot_Madrid                              34\n",
       "ADR_Madrid                                  32\n",
       "dtype: int64"
      ]
     },
     "metadata": {},
     "execution_count": 20
    }
   ],
   "metadata": {}
  },
  {
   "cell_type": "markdown",
   "source": [
    "Esto se debe a las fechas disponibles para cada variable. No a valores nulos en si. "
   ],
   "metadata": {}
  },
  {
   "cell_type": "markdown",
   "source": [
    "Se realizó una Tabla General, en donde se juntaron cada base de datos en una columna de la misma, organizadas por la fecha, se realizó un proceso de transformación ya que las fechas no se mostraban en el mismo formato en todas, unos en meses y otro es trimestres. Además, se crearon varios data frames partiendo de Tabla General para realizar algunos filtros que facilitaran la graficación de los mismos."
   ],
   "metadata": {}
  },
  {
   "cell_type": "code",
   "execution_count": 23,
   "source": [
    "df_hoteles = df_tabla_general[[\"Year_Q\",\"Year\",\"Emple_estab_hotel_Mad\",\"Occ_que_no _trab_ERTE_miles\",\"Estab_Abiertos_Mad\", \"Occ_Hot_Madrid\"]].iloc[-17:, :]\n",
    "df_hoteles.head(3)"
   ],
   "outputs": [
    {
     "output_type": "execute_result",
     "data": {
      "text/html": [
       "<div>\n",
       "<style scoped>\n",
       "    .dataframe tbody tr th:only-of-type {\n",
       "        vertical-align: middle;\n",
       "    }\n",
       "\n",
       "    .dataframe tbody tr th {\n",
       "        vertical-align: top;\n",
       "    }\n",
       "\n",
       "    .dataframe thead th {\n",
       "        text-align: right;\n",
       "    }\n",
       "</style>\n",
       "<table border=\"1\" class=\"dataframe\">\n",
       "  <thead>\n",
       "    <tr style=\"text-align: right;\">\n",
       "      <th></th>\n",
       "      <th>Year_Q</th>\n",
       "      <th>Year</th>\n",
       "      <th>Emple_estab_hotel_Mad</th>\n",
       "      <th>Occ_que_no _trab_ERTE_miles</th>\n",
       "      <th>Estab_Abiertos_Mad</th>\n",
       "      <th>Occ_Hot_Madrid</th>\n",
       "    </tr>\n",
       "  </thead>\n",
       "  <tbody>\n",
       "    <tr>\n",
       "      <th>34</th>\n",
       "      <td>2017-3</td>\n",
       "      <td>2017</td>\n",
       "      <td>34353.0</td>\n",
       "      <td>1.3</td>\n",
       "      <td>2235.0</td>\n",
       "      <td>64.09</td>\n",
       "    </tr>\n",
       "    <tr>\n",
       "      <th>35</th>\n",
       "      <td>2017-4</td>\n",
       "      <td>2017</td>\n",
       "      <td>34965.0</td>\n",
       "      <td>1.7</td>\n",
       "      <td>2405.0</td>\n",
       "      <td>63.05</td>\n",
       "    </tr>\n",
       "    <tr>\n",
       "      <th>36</th>\n",
       "      <td>2018-1</td>\n",
       "      <td>2018</td>\n",
       "      <td>34857.0</td>\n",
       "      <td>1.9</td>\n",
       "      <td>2267.0</td>\n",
       "      <td>59.00</td>\n",
       "    </tr>\n",
       "  </tbody>\n",
       "</table>\n",
       "</div>"
      ],
      "text/plain": [
       "    Year_Q  Year  Emple_estab_hotel_Mad  Occ_que_no _trab_ERTE_miles  \\\n",
       "34  2017-3  2017                34353.0                          1.3   \n",
       "35  2017-4  2017                34965.0                          1.7   \n",
       "36  2018-1  2018                34857.0                          1.9   \n",
       "\n",
       "    Estab_Abiertos_Mad  Occ_Hot_Madrid  \n",
       "34              2235.0           64.09  \n",
       "35              2405.0           63.05  \n",
       "36              2267.0           59.00  "
      ]
     },
     "metadata": {},
     "execution_count": 23
    }
   ],
   "metadata": {}
  },
  {
   "cell_type": "markdown",
   "source": [
    "************"
   ],
   "metadata": {}
  },
  {
   "cell_type": "markdown",
   "source": [
    "## Parte 3: Creacion de Visualizaciones y Analisis"
   ],
   "metadata": {}
  },
  {
   "cell_type": "markdown",
   "source": [
    "A la hora de graficar se usaron distintas librerías de Python, como Seaborn, Plotly, Matplotly, además de usar Tableu. \n",
    "\n",
    "Dependiendo de lo que se quería graficar se decantó por una u otra, según su versatilidad y funcionalidad. \n",
    "\n",
    "La dificultad estuvo en descubrir cual era la mejor herramienta para plasmar de la manera mas entendible cada información  "
   ],
   "metadata": {}
  },
  {
   "cell_type": "code",
   "execution_count": 24,
   "source": [
    "plt.figure(figsize = (10,5))\n",
    "sns.distplot(df_hoteles[\"Emple_estab_hotel_Mad\"] , color=\"skyblue\", label=\"Empleados contratados en Hoteles\")"
   ],
   "outputs": [
    {
     "output_type": "execute_result",
     "data": {
      "text/plain": [
       "<AxesSubplot:xlabel='Emple_estab_hotel_Mad', ylabel='Density'>"
      ]
     },
     "metadata": {},
     "execution_count": 24
    },
    {
     "output_type": "display_data",
     "data": {
      "image/png": "[encoded data removed]",
      "text/plain": [
       "<Figure size 720x360 with 1 Axes>"
      ]
     },
     "metadata": {
      "needs_background": "light"
     }
    }
   ],
   "metadata": {}
  },
  {
   "cell_type": "code",
   "execution_count": 25,
   "source": [
    "f, axes = plt.subplots(2, 2, figsize=(15,10), sharex=False) \n",
    "sns.distplot(df_hoteles[\"Emple_estab_hotel_Mad\"] , color=\"skyblue\", label=\"Empleados contratados en Hoteles\", ax = axes[0,0])\n",
    "\n",
    "sns.distplot(x = df_hoteles[\"Occ_que_no _trab_ERTE_miles\"] , color=\"red\", label=\"Empleados en ERTE\", ax = axes[0,1])\n",
    "#plt.plot( 'Year_Q', 'Occ_que_no _trab_ERTE_miles', data=df_hoteles, color='red', ax = axes[0,1])\n",
    "sns.distplot(df_hoteles[\"Estab_Abiertos_Mad\"] , color=\"orange\", label=\"Hoteles Abiertos\", ax = axes[1,0])\n",
    "\n",
    "sns.distplot(df_hoteles[\"Occ_Hot_Madrid\"] , color=\"purple\", label=\"Ocupacion Hotelera\", ax = axes[1,1])\n",
    "plt.legend();"
   ],
   "outputs": [
    {
     "output_type": "display_data",
     "data": {
      "image/png": "[encoded data removed]",
      "text/plain": [
       "<Figure size 1080x720 with 4 Axes>"
      ]
     },
     "metadata": {
      "needs_background": "light"
     }
    }
   ],
   "metadata": {}
  },
  {
   "cell_type": "code",
   "execution_count": 27,
   "source": [
    "plt.figure(figsize = (10,5))\n",
    "sns.displot(data=df_hoteles, x=\"Occ_que_no _trab_ERTE_miles\", kind=\"kde\")"
   ],
   "outputs": [
    {
     "output_type": "execute_result",
     "data": {
      "text/plain": [
       "<seaborn.axisgrid.FacetGrid at 0x7feeffca19d0>"
      ]
     },
     "metadata": {},
     "execution_count": 27
    },
    {
     "output_type": "display_data",
     "data": {
      "text/plain": [
       "<Figure size 720x360 with 0 Axes>"
      ]
     },
     "metadata": {}
    },
    {
     "output_type": "display_data",
     "data": {
      "image/png": "[encoded data removed]",
      "text/plain": [
       "<Figure size 360x360 with 1 Axes>"
      ]
     },
     "metadata": {
      "needs_background": "light"
     }
    }
   ],
   "metadata": {}
  },
  {
   "cell_type": "code",
   "execution_count": 28,
   "source": [
    "plt.figure(figsize = (10,5))\n",
    "y=df_hoteles[\"Occ_que_no _trab_ERTE_miles\"]\n",
    "x=df_hoteles[\"Year_Q\"]\n",
    "\n",
    "plt.fill_between(x, y)"
   ],
   "outputs": [
    {
     "output_type": "execute_result",
     "data": {
      "text/plain": [
       "<matplotlib.collections.PolyCollection at 0x7feeffcb26d0>"
      ]
     },
     "metadata": {},
     "execution_count": 28
    },
    {
     "output_type": "display_data",
     "data": {
      "image/png": "[encoded data removed]",
      "text/plain": [
       "<Figure size 720x360 with 1 Axes>"
      ]
     },
     "metadata": {
      "needs_background": "light"
     }
    }
   ],
   "metadata": {}
  },
  {
   "cell_type": "code",
   "execution_count": 33,
   "source": [
    "plt.figure(figsize = (14,5))\n",
    "plt.plot(df_hoteles[\"Year_Q\"], df_hoteles[\"Occ_que_no _trab_ERTE_miles\"], '-r', label = 'Empleados en ERTE')\n",
    "plt.grid(True)\n",
    "plt.title(\"Empleados de Hosteleria en situacion de ERTE\", fontsize=20)\n",
    "plt.legend();"
   ],
   "outputs": [
    {
     "output_type": "display_data",
     "data": {
      "image/png": "[encoded data removed]",
      "text/plain": [
       "<Figure size 1008x360 with 1 Axes>"
      ]
     },
     "metadata": {
      "needs_background": "light"
     }
    }
   ],
   "metadata": {}
  },
  {
   "cell_type": "code",
   "execution_count": 31,
   "source": [
    "plt.figure(figsize = (14,5))\n",
    "plt.plot(df_hoteles[\"Year_Q\"], df_hoteles[\"Emple_estab_hotel_Mad\"], '-g', label = 'Cant. de Empleos')\n",
    "#plt.plot(df_hoteles_y[\"Year\"], df_hoteles_y[\"Estab_Abiertos_Mad\"], ':b', label = 'Estab_Abiertos_Mad')\n",
    "#plt.axis('equal')\n",
    "#x = np.linspace(2017-3, 2021-3, 5)\n",
    "plt.grid(True)\n",
    "plt.title(\"Empleos en establecimientos hoteleros en Madrid\", fontsize=20)\n",
    "plt.legend();"
   ],
   "outputs": [
    {
     "output_type": "display_data",
     "data": {
      "image/png": "[encoded data removed]",
      "text/plain": [
       "<Figure size 1008x360 with 1 Axes>"
      ]
     },
     "metadata": {
      "needs_background": "light"
     }
    }
   ],
   "metadata": {}
  },
  {
   "cell_type": "code",
   "execution_count": 32,
   "source": [
    "plt.figure(figsize = (14,5))\n",
    "plt.plot(df_hoteles[\"Year_Q\"], df_hoteles[\"Occ_Hot_Madrid\"], '-k', label = 'Ocupacion Hoteles Abiertos')\n",
    "plt.grid(True)\n",
    "plt.title(\"Ocupacion de los establecimientos hoteleros abiertos en Madrid\", fontsize=20)\n",
    "plt.legend();"
   ],
   "outputs": [
    {
     "output_type": "display_data",
     "data": {
      "image/png": "[encoded data removed]",
      "text/plain": [
       "<Figure size 1008x360 with 1 Axes>"
      ]
     },
     "metadata": {
      "needs_background": "light"
     }
    }
   ],
   "metadata": {}
  },
  {
   "cell_type": "code",
   "execution_count": 35,
   "source": [
    "plt.figure(figsize = (14,5))\n",
    "plt.plot(df_Occ_ADR[\"Year_Q\"], df_Occ_ADR[\"ADR_Madrid\"], '-y', label = 'ADR')\n",
    "plt.grid(True)\n",
    "plt.title(\"ADR de Hoteles en Madrid\", fontsize=20)\n",
    "plt.legend();"
   ],
   "outputs": [
    {
     "output_type": "display_data",
     "data": {
      "image/png": "[encoded data removed]",
      "text/plain": [
       "<Figure size 1008x360 with 1 Axes>"
      ]
     },
     "metadata": {
      "needs_background": "light"
     }
    }
   ],
   "metadata": {}
  },
  {
   "cell_type": "code",
   "execution_count": 21,
   "source": [
    "# Creating trace1\n",
    "trace1 = go.Scatter(\n",
    "                    x = df_alta_laboral[\"Year_Month\"],\n",
    "                    y = df_alta_laboral['Alojamiento'],\n",
    "                    name = 'Alojamiento',\n",
    "                    mode= 'lines', \n",
    "                    marker = dict(color = 'rgba(16, 112, 2, 0.8)'),\n",
    "                    text = df_alta_laboral['Alojamiento'])\n",
    "\n",
    "# Creating trace2\n",
    "trace2 = go.Scatter(\n",
    "                    x = df_alta_laboral[\"Year_Month\"],\n",
    "                    y = df_alta_laboral['Agencias'],\n",
    "                    name = 'Agencias',\n",
    "                    mode= 'lines',\n",
    "                    marker = dict(color = 'rgba(80, 26, 80, 0.8)'),\n",
    "                    text = df_alta_laboral['Agencias'])\n",
    "\n",
    "\n",
    "# Creating trace3\n",
    "trace3 = go.Scatter(\n",
    "                    x = df_alta_laboral[\"Year_Month\"],\n",
    "                    y = df_alta_laboral['Comidas'],\n",
    "                    name = 'Comidas',\n",
    "                    mode= 'lines',\n",
    "                    marker = dict(color = 'rgba(40, 50, 80, 0.8)'),\n",
    "                    text = df_alta_laboral['Comidas'])\n",
    "\n",
    "data = [trace1, trace2, trace3]\n",
    "\n",
    "layout = dict(title = 'Altas laborales según sectores de hostelería ',\n",
    "             xaxis= dict(title= 'Años',ticklen= 5)\n",
    "           )\n",
    "\n",
    "fig = go.Figure(data = data, layout=layout)\n",
    "\n",
    "iplot(fig)"
   ],
   "outputs": [
    {
     "output_type": "display_data",
     "data": {
      "application/vnd.plotly.v1+json": {
       "config": {
        "linkText": "Export to plot.ly",
        "plotlyServerURL": "https://plot.ly",
        "showLink": false
       },
       "data": [
        {
         "marker": {
          "color": "rgba(16, 112, 2, 0.8)"
         },
         "mode": "lines",
         "name": "Alojamiento",
         "text": [
          173666,
          183577,
          205157,
          227727,
          241026,
          258481,
          270761,
          267173,
          253404,
          210057,
          188400,
          186813,
          183822,
          194787,
          220436,
          229805,
          248411,
          264972,
          278129,
          281369,
          254855,
          215873,
          196729,
          194423,
          190032,
          199092,
          210979,
          237008,
          255411,
          269441,
          283724,
          283318,
          258265,
          222510,
          203392,
          199861,
          197322,
          208216,
          221751,
          242018,
          260787,
          272723,
          291325,
          285105,
          263111,
          234489,
          207748,
          206417,
          202291,
          211990,
          229219,
          247010,
          265387,
          283562,
          304236,
          297210,
          276999,
          241136,
          216483,
          214941,
          210680,
          219606,
          236242,
          266337,
          280983,
          297720,
          315239,
          310936,
          296585,
          249490,
          225826,
          224837,
          221463,
          238810,
          263721,
          282707,
          298987,
          322014,
          335362,
          330035,
          315886,
          264336,
          241496,
          238539,
          233951,
          247868,
          265300,
          282071,
          305035,
          320402,
          334067,
          336357,
          300571,
          258594,
          236589,
          228682,
          222283,
          229749,
          238321,
          258148,
          278263,
          294031,
          311793,
          307035,
          278263,
          253095,
          218006,
          217119,
          212367,
          223929,
          243749,
          255507,
          278013,
          296811,
          319295,
          309530,
          281309,
          256795,
          216879,
          216063,
          209795,
          223960,
          235609,
          269502,
          281519,
          304643,
          326437,
          316675,
          286622,
          245905,
          217223,
          215700,
          208962,
          219070,
          239960,
          257524,
          276751,
          305006,
          318224,
          313293,
          293291,
          234388,
          206286,
          205852,
          199344,
          210958,
          237038,
          251123,
          278719,
          305618,
          320429,
          324995,
          287570,
          239444,
          212698,
          210542,
          202235,
          216471,
          231764,
          263648,
          291267,
          314486,
          331101,
          337148,
          296118,
          247745,
          217606,
          214650,
          207600,
          222640,
          250545,
          271684,
          302441,
          326095,
          346451,
          342259,
          306352,
          271499,
          221457,
          223566,
          218651,
          234241,
          265489,
          295215,
          320455,
          349535,
          373298,
          362459,
          330456,
          280601,
          237700,
          239958,
          230929,
          249943,
          275808,
          323145,
          342732,
          373518,
          391504,
          384925,
          366009,
          291889,
          250381,
          250526,
          241848,
          261199,
          306083,
          332550,
          357202,
          389534,
          401787,
          396104,
          377753,
          302869,
          259103,
          259096,
          249523,
          269829,
          298232,
          340823,
          367348,
          402581,
          415301,
          419343,
          376033,
          305316,
          273642,
          267938,
          255677,
          281255,
          248946,
          273204,
          281759,
          297372,
          323716,
          317516,
          283193,
          232602,
          214222,
          213636,
          208112,
          207536,
          217204,
          220488,
          257198,
          326145,
          361883,
          358486
         ],
         "type": "scatter",
         "x": [
          "2001-1",
          "2001-2",
          "2001-3",
          "2001-4",
          "2001-5",
          "2001-6",
          "2001-7",
          "2001-8",
          "2001-9",
          "2001-10",
          "2001-11",
          "2001-12",
          "2002-1",
          "2002-2",
          "2002-3",
          "2002-4",
          "2002-5",
          "2002-6",
          "2002-7",
          "2002-8",
          "2002-9",
          "2002-10",
          "2002-11",
          "2002-12",
          "2003-1",
          "2003-2",
          "2003-3",
          "2003-4",
          "2003-5",
          "2003-6",
          "2003-7",
          "2003-8",
          "2003-9",
          "2003-10",
          "2003-11",
          "2003-12",
          "2004-1",
          "2004-2",
          "2004-3",
          "2004-4",
          "2004-5",
          "2004-6",
          "2004-7",
          "2004-8",
          "2004-9",
          "2004-10",
          "2004-11",
          "2004-12",
          "2005-1",
          "2005-2",
          "2005-3",
          "2005-4",
          "2005-5",
          "2005-6",
          "2005-7",
          "2005-8",
          "2005-9",
          "2005-10",
          "2005-11",
          "2005-12",
          "2006-1",
          "2006-2",
          "2006-3",
          "2006-4",
          "2006-5",
          "2006-6",
          "2006-7",
          "2006-8",
          "2006-9",
          "2006-10",
          "2006-11",
          "2006-12",
          "2007-1",
          "2007-2",
          "2007-3",
          "2007-4",
          "2007-5",
          "2007-6",
          "2007-7",
          "2007-8",
          "2007-9",
          "2007-10",
          "2007-11",
          "2007-12",
          "2008-1",
          "2008-2",
          "2008-3",
          "2008-4",
          "2008-5",
          "2008-6",
          "2008-7",
          "2008-8",
          "2008-9",
          "2008-10",
          "2008-11",
          "2008-12",
          "2009-1",
          "2009-2",
          "2009-3",
          "2009-4",
          "2009-5",
          "2009-6",
          "2009-7",
          "2009-8",
          "2009-9",
          "2009-10",
          "2009-11",
          "2009-12",
          "2010-1",
          "2010-2",
          "2010-3",
          "2010-4",
          "2010-5",
          "2010-6",
          "2010-7",
          "2010-8",
          "2010-9",
          "2010-10",
          "2010-11",
          "2010-12",
          "2011-1",
          "2011-2",
          "2011-3",
          "2011-4",
          "2011-5",
          "2011-6",
          "2011-7",
          "2011-8",
          "2011-9",
          "2011-10",
          "2011-11",
          "2011-12",
          "2012-1",
          "2012-2",
          "2012-3",
          "2012-4",
          "2012-5",
          "2012-6",
          "2012-7",
          "2012-8",
          "2012-9",
          "2012-10",
          "2012-11",
          "2012-12",
          "2013-1",
          "2013-2",
          "2013-3",
          "2013-4",
          "2013-5",
          "2013-6",
          "2013-7",
          "2013-8",
          "2013-9",
          "2013-10",
          "2013-11",
          "2013-12",
          "2014-1",
          "2014-2",
          "2014-3",
          "2014-4",
          "2014-5",
          "2014-6",
          "2014-7",
          "2014-8",
          "2014-9",
          "2014-10",
          "2014-11",
          "2014-12",
          "2015-1",
          "2015-2",
          "2015-3",
          "2015-4",
          "2015-5",
          "2015-6",
          "2015-7",
          "2015-8",
          "2015-9",
          "2015-10",
          "2015-11",
          "2015-12",
          "2016-1",
          "2016-2",
          "2016-3",
          "2016-4",
          "2016-5",
          "2016-6",
          "2016-7",
          "2016-8",
          "2016-9",
          "2016-10",
          "2016-11",
          "2016-12",
          "2017-1",
          "2017-2",
          "2017-3",
          "2017-4",
          "2017-5",
          "2017-6",
          "2017-7",
          "2017-8",
          "2017-9",
          "2017-10",
          "2017-11",
          "2017-12",
          "2018-1",
          "2018-2",
          "2018-3",
          "2018-4",
          "2018-5",
          "2018-6",
          "2018-7",
          "2018-8",
          "2018-9",
          "2018-10",
          "2018-11",
          "2018-12",
          "2019-1",
          "2019-2",
          "2019-3",
          "2019-4",
          "2019-5",
          "2019-6",
          "2019-7",
          "2019-8",
          "2019-9",
          "2019-10",
          "2019-11",
          "2019-12",
          "2020-1",
          "2020-2",
          "2020-3",
          "2020-4",
          "2020-5",
          "2020-6",
          "2020-7",
          "2020-8",
          "2020-9",
          "2020-10",
          "2020-11",
          "2020-12",
          "2021-1",
          "2021-2",
          "2021-3",
          "2021-4",
          "2021-5",
          "2021-6",
          "2021-7",
          "2021-8"
         ],
         "y": [
          173666,
          183577,
          205157,
          227727,
          241026,
          258481,
          270761,
          267173,
          253404,
          210057,
          188400,
          186813,
          183822,
          194787,
          220436,
          229805,
          248411,
          264972,
          278129,
          281369,
          254855,
          215873,
          196729,
          194423,
          190032,
          199092,
          210979,
          237008,
          255411,
          269441,
          283724,
          283318,
          258265,
          222510,
          203392,
          199861,
          197322,
          208216,
          221751,
          242018,
          260787,
          272723,
          291325,
          285105,
          263111,
          234489,
          207748,
          206417,
          202291,
          211990,
          229219,
          247010,
          265387,
          283562,
          304236,
          297210,
          276999,
          241136,
          216483,
          214941,
          210680,
          219606,
          236242,
          266337,
          280983,
          297720,
          315239,
          310936,
          296585,
          249490,
          225826,
          224837,
          221463,
          238810,
          263721,
          282707,
          298987,
          322014,
          335362,
          330035,
          315886,
          264336,
          241496,
          238539,
          233951,
          247868,
          265300,
          282071,
          305035,
          320402,
          334067,
          336357,
          300571,
          258594,
          236589,
          228682,
          222283,
          229749,
          238321,
          258148,
          278263,
          294031,
          311793,
          307035,
          278263,
          253095,
          218006,
          217119,
          212367,
          223929,
          243749,
          255507,
          278013,
          296811,
          319295,
          309530,
          281309,
          256795,
          216879,
          216063,
          209795,
          223960,
          235609,
          269502,
          281519,
          304643,
          326437,
          316675,
          286622,
          245905,
          217223,
          215700,
          208962,
          219070,
          239960,
          257524,
          276751,
          305006,
          318224,
          313293,
          293291,
          234388,
          206286,
          205852,
          199344,
          210958,
          237038,
          251123,
          278719,
          305618,
          320429,
          324995,
          287570,
          239444,
          212698,
          210542,
          202235,
          216471,
          231764,
          263648,
          291267,
          314486,
          331101,
          337148,
          296118,
          247745,
          217606,
          214650,
          207600,
          222640,
          250545,
          271684,
          302441,
          326095,
          346451,
          342259,
          306352,
          271499,
          221457,
          223566,
          218651,
          234241,
          265489,
          295215,
          320455,
          349535,
          373298,
          362459,
          330456,
          280601,
          237700,
          239958,
          230929,
          249943,
          275808,
          323145,
          342732,
          373518,
          391504,
          384925,
          366009,
          291889,
          250381,
          250526,
          241848,
          261199,
          306083,
          332550,
          357202,
          389534,
          401787,
          396104,
          377753,
          302869,
          259103,
          259096,
          249523,
          269829,
          298232,
          340823,
          367348,
          402581,
          415301,
          419343,
          376033,
          305316,
          273642,
          267938,
          255677,
          281255,
          248946,
          273204,
          281759,
          297372,
          323716,
          317516,
          283193,
          232602,
          214222,
          213636,
          208112,
          207536,
          217204,
          220488,
          257198,
          326145,
          361883,
          358486
         ]
        },
        {
         "marker": {
          "color": "rgba(80, 26, 80, 0.8)"
         },
         "mode": "lines",
         "name": "Agencias",
         "text": [
          41416,
          42143,
          43496,
          44939,
          46142,
          47431,
          48075,
          47864,
          47107,
          44818,
          43341,
          42975,
          42421,
          43049,
          44656,
          45554,
          46804,
          47998,
          48686,
          48708,
          47435,
          46055,
          45224,
          44890,
          44659,
          45322,
          46237,
          47272,
          48581,
          49621,
          50408,
          50047,
          49018,
          47670,
          47138,
          46657,
          46591,
          47279,
          48445,
          49861,
          51338,
          52409,
          53542,
          53029,
          52151,
          51304,
          50009,
          49576,
          49633,
          50670,
          51835,
          53562,
          54986,
          56428,
          57629,
          56961,
          56104,
          55292,
          54158,
          53873,
          53627,
          54562,
          55891,
          57689,
          58729,
          59913,
          60595,
          60357,
          60088,
          58662,
          57524,
          57262,
          56879,
          56924,
          58767,
          60016,
          60764,
          62001,
          62532,
          61745,
          61459,
          59809,
          58622,
          58338,
          57990,
          58822,
          60055,
          61328,
          62570,
          62843,
          63007,
          62549,
          60839,
          58842,
          57611,
          55985,
          58837,
          58241,
          57874,
          58779,
          59315,
          59223,
          59295,
          58324,
          57271,
          56788,
          54597,
          53929,
          53298,
          53599,
          54098,
          54971,
          55886,
          56182,
          56890,
          54760,
          53834,
          53377,
          51724,
          51335,
          50286,
          50725,
          51957,
          53520,
          54075,
          54988,
          55771,
          54760,
          53918,
          52908,
          51391,
          50735,
          50207,
          50533,
          51515,
          52461,
          53376,
          54292,
          54426,
          53599,
          53166,
          50873,
          49420,
          49159,
          47938,
          48289,
          49441,
          49183,
          50461,
          51450,
          51630,
          51470,
          51034,
          48693,
          47991,
          47294,
          46571,
          47587,
          48827,
          50321,
          52031,
          53129,
          53177,
          53258,
          52472,
          51123,
          50003,
          49481,
          49028,
          49877,
          51380,
          52675,
          53959,
          54965,
          55159,
          54887,
          53995,
          53410,
          51415,
          51630,
          51413,
          52503,
          54004,
          55808,
          57003,
          57753,
          58815,
          57536,
          57121,
          56347,
          54869,
          54899,
          54091,
          55465,
          56712,
          59149,
          60349,
          61604,
          62020,
          61263,
          61799,
          59689,
          58421,
          58002,
          57427,
          58547,
          60765,
          62636,
          63940,
          66095,
          65983,
          65465,
          65805,
          63507,
          62295,
          62346,
          61384,
          62602,
          64431,
          65823,
          67031,
          68777,
          68495,
          68414,
          67489,
          64857,
          64676,
          64276,
          63487,
          64256,
          60592,
          60054,
          59869,
          59706,
          59220,
          58681,
          57599,
          56762,
          55800,
          55281,
          54484,
          53995,
          53887,
          53592,
          53682,
          55178,
          55913,
          55482
         ],
         "type": "scatter",
         "x": [
          "2001-1",
          "2001-2",
          "2001-3",
          "2001-4",
          "2001-5",
          "2001-6",
          "2001-7",
          "2001-8",
          "2001-9",
          "2001-10",
          "2001-11",
          "2001-12",
          "2002-1",
          "2002-2",
          "2002-3",
          "2002-4",
          "2002-5",
          "2002-6",
          "2002-7",
          "2002-8",
          "2002-9",
          "2002-10",
          "2002-11",
          "2002-12",
          "2003-1",
          "2003-2",
          "2003-3",
          "2003-4",
          "2003-5",
          "2003-6",
          "2003-7",
          "2003-8",
          "2003-9",
          "2003-10",
          "2003-11",
          "2003-12",
          "2004-1",
          "2004-2",
          "2004-3",
          "2004-4",
          "2004-5",
          "2004-6",
          "2004-7",
          "2004-8",
          "2004-9",
          "2004-10",
          "2004-11",
          "2004-12",
          "2005-1",
          "2005-2",
          "2005-3",
          "2005-4",
          "2005-5",
          "2005-6",
          "2005-7",
          "2005-8",
          "2005-9",
          "2005-10",
          "2005-11",
          "2005-12",
          "2006-1",
          "2006-2",
          "2006-3",
          "2006-4",
          "2006-5",
          "2006-6",
          "2006-7",
          "2006-8",
          "2006-9",
          "2006-10",
          "2006-11",
          "2006-12",
          "2007-1",
          "2007-2",
          "2007-3",
          "2007-4",
          "2007-5",
          "2007-6",
          "2007-7",
          "2007-8",
          "2007-9",
          "2007-10",
          "2007-11",
          "2007-12",
          "2008-1",
          "2008-2",
          "2008-3",
          "2008-4",
          "2008-5",
          "2008-6",
          "2008-7",
          "2008-8",
          "2008-9",
          "2008-10",
          "2008-11",
          "2008-12",
          "2009-1",
          "2009-2",
          "2009-3",
          "2009-4",
          "2009-5",
          "2009-6",
          "2009-7",
          "2009-8",
          "2009-9",
          "2009-10",
          "2009-11",
          "2009-12",
          "2010-1",
          "2010-2",
          "2010-3",
          "2010-4",
          "2010-5",
          "2010-6",
          "2010-7",
          "2010-8",
          "2010-9",
          "2010-10",
          "2010-11",
          "2010-12",
          "2011-1",
          "2011-2",
          "2011-3",
          "2011-4",
          "2011-5",
          "2011-6",
          "2011-7",
          "2011-8",
          "2011-9",
          "2011-10",
          "2011-11",
          "2011-12",
          "2012-1",
          "2012-2",
          "2012-3",
          "2012-4",
          "2012-5",
          "2012-6",
          "2012-7",
          "2012-8",
          "2012-9",
          "2012-10",
          "2012-11",
          "2012-12",
          "2013-1",
          "2013-2",
          "2013-3",
          "2013-4",
          "2013-5",
          "2013-6",
          "2013-7",
          "2013-8",
          "2013-9",
          "2013-10",
          "2013-11",
          "2013-12",
          "2014-1",
          "2014-2",
          "2014-3",
          "2014-4",
          "2014-5",
          "2014-6",
          "2014-7",
          "2014-8",
          "2014-9",
          "2014-10",
          "2014-11",
          "2014-12",
          "2015-1",
          "2015-2",
          "2015-3",
          "2015-4",
          "2015-5",
          "2015-6",
          "2015-7",
          "2015-8",
          "2015-9",
          "2015-10",
          "2015-11",
          "2015-12",
          "2016-1",
          "2016-2",
          "2016-3",
          "2016-4",
          "2016-5",
          "2016-6",
          "2016-7",
          "2016-8",
          "2016-9",
          "2016-10",
          "2016-11",
          "2016-12",
          "2017-1",
          "2017-2",
          "2017-3",
          "2017-4",
          "2017-5",
          "2017-6",
          "2017-7",
          "2017-8",
          "2017-9",
          "2017-10",
          "2017-11",
          "2017-12",
          "2018-1",
          "2018-2",
          "2018-3",
          "2018-4",
          "2018-5",
          "2018-6",
          "2018-7",
          "2018-8",
          "2018-9",
          "2018-10",
          "2018-11",
          "2018-12",
          "2019-1",
          "2019-2",
          "2019-3",
          "2019-4",
          "2019-5",
          "2019-6",
          "2019-7",
          "2019-8",
          "2019-9",
          "2019-10",
          "2019-11",
          "2019-12",
          "2020-1",
          "2020-2",
          "2020-3",
          "2020-4",
          "2020-5",
          "2020-6",
          "2020-7",
          "2020-8",
          "2020-9",
          "2020-10",
          "2020-11",
          "2020-12",
          "2021-1",
          "2021-2",
          "2021-3",
          "2021-4",
          "2021-5",
          "2021-6",
          "2021-7",
          "2021-8"
         ],
         "y": [
          41416,
          42143,
          43496,
          44939,
          46142,
          47431,
          48075,
          47864,
          47107,
          44818,
          43341,
          42975,
          42421,
          43049,
          44656,
          45554,
          46804,
          47998,
          48686,
          48708,
          47435,
          46055,
          45224,
          44890,
          44659,
          45322,
          46237,
          47272,
          48581,
          49621,
          50408,
          50047,
          49018,
          47670,
          47138,
          46657,
          46591,
          47279,
          48445,
          49861,
          51338,
          52409,
          53542,
          53029,
          52151,
          51304,
          50009,
          49576,
          49633,
          50670,
          51835,
          53562,
          54986,
          56428,
          57629,
          56961,
          56104,
          55292,
          54158,
          53873,
          53627,
          54562,
          55891,
          57689,
          58729,
          59913,
          60595,
          60357,
          60088,
          58662,
          57524,
          57262,
          56879,
          56924,
          58767,
          60016,
          60764,
          62001,
          62532,
          61745,
          61459,
          59809,
          58622,
          58338,
          57990,
          58822,
          60055,
          61328,
          62570,
          62843,
          63007,
          62549,
          60839,
          58842,
          57611,
          55985,
          58837,
          58241,
          57874,
          58779,
          59315,
          59223,
          59295,
          58324,
          57271,
          56788,
          54597,
          53929,
          53298,
          53599,
          54098,
          54971,
          55886,
          56182,
          56890,
          54760,
          53834,
          53377,
          51724,
          51335,
          50286,
          50725,
          51957,
          53520,
          54075,
          54988,
          55771,
          54760,
          53918,
          52908,
          51391,
          50735,
          50207,
          50533,
          51515,
          52461,
          53376,
          54292,
          54426,
          53599,
          53166,
          50873,
          49420,
          49159,
          47938,
          48289,
          49441,
          49183,
          50461,
          51450,
          51630,
          51470,
          51034,
          48693,
          47991,
          47294,
          46571,
          47587,
          48827,
          50321,
          52031,
          53129,
          53177,
          53258,
          52472,
          51123,
          50003,
          49481,
          49028,
          49877,
          51380,
          52675,
          53959,
          54965,
          55159,
          54887,
          53995,
          53410,
          51415,
          51630,
          51413,
          52503,
          54004,
          55808,
          57003,
          57753,
          58815,
          57536,
          57121,
          56347,
          54869,
          54899,
          54091,
          55465,
          56712,
          59149,
          60349,
          61604,
          62020,
          61263,
          61799,
          59689,
          58421,
          58002,
          57427,
          58547,
          60765,
          62636,
          63940,
          66095,
          65983,
          65465,
          65805,
          63507,
          62295,
          62346,
          61384,
          62602,
          64431,
          65823,
          67031,
          68777,
          68495,
          68414,
          67489,
          64857,
          64676,
          64276,
          63487,
          64256,
          60592,
          60054,
          59869,
          59706,
          59220,
          58681,
          57599,
          56762,
          55800,
          55281,
          54484,
          53995,
          53887,
          53592,
          53682,
          55178,
          55913,
          55482
         ]
        },
        {
         "marker": {
          "color": "rgba(40, 50, 80, 0.8)"
         },
         "mode": "lines",
         "name": "Comidas",
         "text": [
          737832,
          748870,
          765629,
          783352,
          794325,
          802690,
          826667,
          814009,
          796667,
          765230,
          774677,
          772647,
          763263,
          773982,
          797655,
          808321,
          826984,
          833877,
          858565,
          858288,
          825203,
          816636,
          814277,
          806699,
          798624,
          808214,
          820961,
          841017,
          861093,
          855496,
          883835,
          875347,
          849126,
          841778,
          839943,
          830765,
          826593,
          837302,
          846843,
          869046,
          886643,
          879101,
          915712,
          893598,
          876053,
          880481,
          866171,
          861879,
          854687,
          864012,
          879606,
          905366,
          925820,
          931648,
          973423,
          955557,
          950102,
          946487,
          935897,
          931474,
          920066,
          930330,
          944461,
          974289,
          985547,
          978405,
          1005550,
          989290,
          992453,
          971546,
          964610,
          961297,
          954410,
          966360,
          995140,
          1013390,
          1027703,
          1021490,
          1034894,
          1018196,
          1032280,
          1011625,
          1009209,
          1004502,
          989692,
          1000546,
          1023899,
          1037716,
          1063823,
          1033039,
          1050645,
          1050257,
          1030003,
          1017796,
          1007474,
          991731,
          975284,
          975871,
          983687,
          1004844,
          1028049,
          999068,
          1030905,
          1020025,
          1011483,
          1013682,
          989093,
          986496,
          975543,
          982075,
          1001441,
          1023286,
          1044643,
          1020126,
          1061315,
          1037572,
          1030405,
          1031301,
          1003410,
          999773,
          980544,
          987822,
          1000226,
          1045323,
          1056627,
          1036968,
          1087130,
          1062327,
          1051861,
          1038607,
          1014447,
          1010423,
          985099,
          988497,
          1016065,
          1043892,
          1057812,
          1059293,
          1084337,
          1072994,
          1066865,
          1020528,
          1001587,
          1001784,
          971304,
          977104,
          1013659,
          1027816,
          1059756,
          1063645,
          1092913,
          1103180,
          1063675,
          1034254,
          1025928,
          1024663,
          996781,
          1010386,
          1035755,
          1079980,
          1122186,
          1111683,
          1142672,
          1154499,
          1108775,
          1084501,
          1072897,
          1071369,
          1052507,
          1063805,
          1106770,
          1134858,
          1184750,
          1166013,
          1210962,
          1196406,
          1163505,
          1158865,
          1126297,
          1130807,
          1111877,
          1126266,
          1160986,
          1209858,
          1225556,
          1217649,
          1287509,
          1241835,
          1232336,
          1212298,
          1184873,
          1191152,
          1155365,
          1178702,
          1211117,
          1282086,
          1291373,
          1288295,
          1321442,
          1289735,
          1308035,
          1245947,
          1225565,
          1234039,
          1194826,
          1213434,
          1282614,
          1313706,
          1327965,
          1335705,
          1346160,
          1331042,
          1344562,
          1276434,
          1266980,
          1273932,
          1229980,
          1253945,
          1304175,
          1342409,
          1385759,
          1381653,
          1386823,
          1392866,
          1354392,
          1313819,
          1320506,
          1309318,
          1271418,
          1312225,
          1154221,
          1156578,
          1187183,
          1176043,
          1244643,
          1220844,
          1207726,
          1173338,
          1117571,
          1114584,
          1067225,
          1065575,
          1108793,
          1129903,
          1194139,
          1200507,
          1277639,
          1246953
         ],
         "type": "scatter",
         "x": [
          "2001-1",
          "2001-2",
          "2001-3",
          "2001-4",
          "2001-5",
          "2001-6",
          "2001-7",
          "2001-8",
          "2001-9",
          "2001-10",
          "2001-11",
          "2001-12",
          "2002-1",
          "2002-2",
          "2002-3",
          "2002-4",
          "2002-5",
          "2002-6",
          "2002-7",
          "2002-8",
          "2002-9",
          "2002-10",
          "2002-11",
          "2002-12",
          "2003-1",
          "2003-2",
          "2003-3",
          "2003-4",
          "2003-5",
          "2003-6",
          "2003-7",
          "2003-8",
          "2003-9",
          "2003-10",
          "2003-11",
          "2003-12",
          "2004-1",
          "2004-2",
          "2004-3",
          "2004-4",
          "2004-5",
          "2004-6",
          "2004-7",
          "2004-8",
          "2004-9",
          "2004-10",
          "2004-11",
          "2004-12",
          "2005-1",
          "2005-2",
          "2005-3",
          "2005-4",
          "2005-5",
          "2005-6",
          "2005-7",
          "2005-8",
          "2005-9",
          "2005-10",
          "2005-11",
          "2005-12",
          "2006-1",
          "2006-2",
          "2006-3",
          "2006-4",
          "2006-5",
          "2006-6",
          "2006-7",
          "2006-8",
          "2006-9",
          "2006-10",
          "2006-11",
          "2006-12",
          "2007-1",
          "2007-2",
          "2007-3",
          "2007-4",
          "2007-5",
          "2007-6",
          "2007-7",
          "2007-8",
          "2007-9",
          "2007-10",
          "2007-11",
          "2007-12",
          "2008-1",
          "2008-2",
          "2008-3",
          "2008-4",
          "2008-5",
          "2008-6",
          "2008-7",
          "2008-8",
          "2008-9",
          "2008-10",
          "2008-11",
          "2008-12",
          "2009-1",
          "2009-2",
          "2009-3",
          "2009-4",
          "2009-5",
          "2009-6",
          "2009-7",
          "2009-8",
          "2009-9",
          "2009-10",
          "2009-11",
          "2009-12",
          "2010-1",
          "2010-2",
          "2010-3",
          "2010-4",
          "2010-5",
          "2010-6",
          "2010-7",
          "2010-8",
          "2010-9",
          "2010-10",
          "2010-11",
          "2010-12",
          "2011-1",
          "2011-2",
          "2011-3",
          "2011-4",
          "2011-5",
          "2011-6",
          "2011-7",
          "2011-8",
          "2011-9",
          "2011-10",
          "2011-11",
          "2011-12",
          "2012-1",
          "2012-2",
          "2012-3",
          "2012-4",
          "2012-5",
          "2012-6",
          "2012-7",
          "2012-8",
          "2012-9",
          "2012-10",
          "2012-11",
          "2012-12",
          "2013-1",
          "2013-2",
          "2013-3",
          "2013-4",
          "2013-5",
          "2013-6",
          "2013-7",
          "2013-8",
          "2013-9",
          "2013-10",
          "2013-11",
          "2013-12",
          "2014-1",
          "2014-2",
          "2014-3",
          "2014-4",
          "2014-5",
          "2014-6",
          "2014-7",
          "2014-8",
          "2014-9",
          "2014-10",
          "2014-11",
          "2014-12",
          "2015-1",
          "2015-2",
          "2015-3",
          "2015-4",
          "2015-5",
          "2015-6",
          "2015-7",
          "2015-8",
          "2015-9",
          "2015-10",
          "2015-11",
          "2015-12",
          "2016-1",
          "2016-2",
          "2016-3",
          "2016-4",
          "2016-5",
          "2016-6",
          "2016-7",
          "2016-8",
          "2016-9",
          "2016-10",
          "2016-11",
          "2016-12",
          "2017-1",
          "2017-2",
          "2017-3",
          "2017-4",
          "2017-5",
          "2017-6",
          "2017-7",
          "2017-8",
          "2017-9",
          "2017-10",
          "2017-11",
          "2017-12",
          "2018-1",
          "2018-2",
          "2018-3",
          "2018-4",
          "2018-5",
          "2018-6",
          "2018-7",
          "2018-8",
          "2018-9",
          "2018-10",
          "2018-11",
          "2018-12",
          "2019-1",
          "2019-2",
          "2019-3",
          "2019-4",
          "2019-5",
          "2019-6",
          "2019-7",
          "2019-8",
          "2019-9",
          "2019-10",
          "2019-11",
          "2019-12",
          "2020-1",
          "2020-2",
          "2020-3",
          "2020-4",
          "2020-5",
          "2020-6",
          "2020-7",
          "2020-8",
          "2020-9",
          "2020-10",
          "2020-11",
          "2020-12",
          "2021-1",
          "2021-2",
          "2021-3",
          "2021-4",
          "2021-5",
          "2021-6",
          "2021-7",
          "2021-8"
         ],
         "y": [
          737832,
          748870,
          765629,
          783352,
          794325,
          802690,
          826667,
          814009,
          796667,
          765230,
          774677,
          772647,
          763263,
          773982,
          797655,
          808321,
          826984,
          833877,
          858565,
          858288,
          825203,
          816636,
          814277,
          806699,
          798624,
          808214,
          820961,
          841017,
          861093,
          855496,
          883835,
          875347,
          849126,
          841778,
          839943,
          830765,
          826593,
          837302,
          846843,
          869046,
          886643,
          879101,
          915712,
          893598,
          876053,
          880481,
          866171,
          861879,
          854687,
          864012,
          879606,
          905366,
          925820,
          931648,
          973423,
          955557,
          950102,
          946487,
          935897,
          931474,
          920066,
          930330,
          944461,
          974289,
          985547,
          978405,
          1005550,
          989290,
          992453,
          971546,
          964610,
          961297,
          954410,
          966360,
          995140,
          1013390,
          1027703,
          1021490,
          1034894,
          1018196,
          1032280,
          1011625,
          1009209,
          1004502,
          989692,
          1000546,
          1023899,
          1037716,
          1063823,
          1033039,
          1050645,
          1050257,
          1030003,
          1017796,
          1007474,
          991731,
          975284,
          975871,
          983687,
          1004844,
          1028049,
          999068,
          1030905,
          1020025,
          1011483,
          1013682,
          989093,
          986496,
          975543,
          982075,
          1001441,
          1023286,
          1044643,
          1020126,
          1061315,
          1037572,
          1030405,
          1031301,
          1003410,
          999773,
          980544,
          987822,
          1000226,
          1045323,
          1056627,
          1036968,
          1087130,
          1062327,
          1051861,
          1038607,
          1014447,
          1010423,
          985099,
          988497,
          1016065,
          1043892,
          1057812,
          1059293,
          1084337,
          1072994,
          1066865,
          1020528,
          1001587,
          1001784,
          971304,
          977104,
          1013659,
          1027816,
          1059756,
          1063645,
          1092913,
          1103180,
          1063675,
          1034254,
          1025928,
          1024663,
          996781,
          1010386,
          1035755,
          1079980,
          1122186,
          1111683,
          1142672,
          1154499,
          1108775,
          1084501,
          1072897,
          1071369,
          1052507,
          1063805,
          1106770,
          1134858,
          1184750,
          1166013,
          1210962,
          1196406,
          1163505,
          1158865,
          1126297,
          1130807,
          1111877,
          1126266,
          1160986,
          1209858,
          1225556,
          1217649,
          1287509,
          1241835,
          1232336,
          1212298,
          1184873,
          1191152,
          1155365,
          1178702,
          1211117,
          1282086,
          1291373,
          1288295,
          1321442,
          1289735,
          1308035,
          1245947,
          1225565,
          1234039,
          1194826,
          1213434,
          1282614,
          1313706,
          1327965,
          1335705,
          1346160,
          1331042,
          1344562,
          1276434,
          1266980,
          1273932,
          1229980,
          1253945,
          1304175,
          1342409,
          1385759,
          1381653,
          1386823,
          1392866,
          1354392,
          1313819,
          1320506,
          1309318,
          1271418,
          1312225,
          1154221,
          1156578,
          1187183,
          1176043,
          1244643,
          1220844,
          1207726,
          1173338,
          1117571,
          1114584,
          1067225,
          1065575,
          1108793,
          1129903,
          1194139,
          1200507,
          1277639,
          1246953
         ]
        }
       ],
       "layout": {
        "template": {
         "data": {
          "bar": [
           {
            "error_x": {
             "color": "#2a3f5f"
            },
            "error_y": {
             "color": "#2a3f5f"
            },
            "marker": {
             "line": {
              "color": "#E5ECF6",
              "width": 0.5
             },
             "pattern": {
              "fillmode": "overlay",
              "size": 10,
              "solidity": 0.2
             }
            },
            "type": "bar"
           }
          ],
          "barpolar": [
           {
            "marker": {
             "line": {
              "color": "#E5ECF6",
              "width": 0.5
             },
             "pattern": {
              "fillmode": "overlay",
              "size": 10,
              "solidity": 0.2
             }
            },
            "type": "barpolar"
           }
          ],
          "carpet": [
           {
            "aaxis": {
             "endlinecolor": "#2a3f5f",
             "gridcolor": "white",
             "linecolor": "white",
             "minorgridcolor": "white",
             "startlinecolor": "#2a3f5f"
            },
            "baxis": {
             "endlinecolor": "#2a3f5f",
             "gridcolor": "white",
             "linecolor": "white",
             "minorgridcolor": "white",
             "startlinecolor": "#2a3f5f"
            },
            "type": "carpet"
           }
          ],
          "choropleth": [
           {
            "colorbar": {
             "outlinewidth": 0,
             "ticks": ""
            },
            "type": "choropleth"
           }
          ],
          "contour": [
           {
            "colorbar": {
             "outlinewidth": 0,
             "ticks": ""
            },
            "colorscale": [
             [
              0,
              "#0d0887"
             ],
             [
              0.1111111111111111,
              "#46039f"
             ],
             [
              0.2222222222222222,
              "#7201a8"
             ],
             [
              0.3333333333333333,
              "#9c179e"
             ],
             [
              0.4444444444444444,
              "#bd3786"
             ],
             [
              0.5555555555555556,
              "#d8576b"
             ],
             [
              0.6666666666666666,
              "#ed7953"
             ],
             [
              0.7777777777777778,
              "#fb9f3a"
             ],
             [
              0.8888888888888888,
              "#fdca26"
             ],
             [
              1,
              "#f0f921"
             ]
            ],
            "type": "contour"
           }
          ],
          "contourcarpet": [
           {
            "colorbar": {
             "outlinewidth": 0,
             "ticks": ""
            },
            "type": "contourcarpet"
           }
          ],
          "heatmap": [
           {
            "colorbar": {
             "outlinewidth": 0,
             "ticks": ""
            },
            "colorscale": [
             [
              0,
              "#0d0887"
             ],
             [
              0.1111111111111111,
              "#46039f"
             ],
             [
              0.2222222222222222,
              "#7201a8"
             ],
             [
              0.3333333333333333,
              "#9c179e"
             ],
             [
              0.4444444444444444,
              "#bd3786"
             ],
             [
              0.5555555555555556,
              "#d8576b"
             ],
             [
              0.6666666666666666,
              "#ed7953"
             ],
             [
              0.7777777777777778,
              "#fb9f3a"
             ],
             [
              0.8888888888888888,
              "#fdca26"
             ],
             [
              1,
              "#f0f921"
             ]
            ],
            "type": "heatmap"
           }
          ],
          "heatmapgl": [
           {
            "colorbar": {
             "outlinewidth": 0,
             "ticks": ""
            },
            "colorscale": [
             [
              0,
              "#0d0887"
             ],
             [
              0.1111111111111111,
              "#46039f"
             ],
             [
              0.2222222222222222,
              "#7201a8"
             ],
             [
              0.3333333333333333,
              "#9c179e"
             ],
             [
              0.4444444444444444,
              "#bd3786"
             ],
             [
              0.5555555555555556,
              "#d8576b"
             ],
             [
              0.6666666666666666,
              "#ed7953"
             ],
             [
              0.7777777777777778,
              "#fb9f3a"
             ],
             [
              0.8888888888888888,
              "#fdca26"
             ],
             [
              1,
              "#f0f921"
             ]
            ],
            "type": "heatmapgl"
           }
          ],
          "histogram": [
           {
            "marker": {
             "pattern": {
              "fillmode": "overlay",
              "size": 10,
              "solidity": 0.2
             }
            },
            "type": "histogram"
           }
          ],
          "histogram2d": [
           {
            "colorbar": {
             "outlinewidth": 0,
             "ticks": ""
            },
            "colorscale": [
             [
              0,
              "#0d0887"
             ],
             [
              0.1111111111111111,
              "#46039f"
             ],
             [
              0.2222222222222222,
              "#7201a8"
             ],
             [
              0.3333333333333333,
              "#9c179e"
             ],
             [
              0.4444444444444444,
              "#bd3786"
             ],
             [
              0.5555555555555556,
              "#d8576b"
             ],
             [
              0.6666666666666666,
              "#ed7953"
             ],
             [
              0.7777777777777778,
              "#fb9f3a"
             ],
             [
              0.8888888888888888,
              "#fdca26"
             ],
             [
              1,
              "#f0f921"
             ]
            ],
            "type": "histogram2d"
           }
          ],
          "histogram2dcontour": [
           {
            "colorbar": {
             "outlinewidth": 0,
             "ticks": ""
            },
            "colorscale": [
             [
              0,
              "#0d0887"
             ],
             [
              0.1111111111111111,
              "#46039f"
             ],
             [
              0.2222222222222222,
              "#7201a8"
             ],
             [
              0.3333333333333333,
              "#9c179e"
             ],
             [
              0.4444444444444444,
              "#bd3786"
             ],
             [
              0.5555555555555556,
              "#d8576b"
             ],
             [
              0.6666666666666666,
              "#ed7953"
             ],
             [
              0.7777777777777778,
              "#fb9f3a"
             ],
             [
              0.8888888888888888,
              "#fdca26"
             ],
             [
              1,
              "#f0f921"
             ]
            ],
            "type": "histogram2dcontour"
           }
          ],
          "mesh3d": [
           {
            "colorbar": {
             "outlinewidth": 0,
             "ticks": ""
            },
            "type": "mesh3d"
           }
          ],
          "parcoords": [
           {
            "line": {
             "colorbar": {
              "outlinewidth": 0,
              "ticks": ""
             }
            },
            "type": "parcoords"
           }
          ],
          "pie": [
           {
            "automargin": true,
            "type": "pie"
           }
          ],
          "scatter": [
           {
            "marker": {
             "colorbar": {
              "outlinewidth": 0,
              "ticks": ""
             }
            },
            "type": "scatter"
           }
          ],
          "scatter3d": [
           {
            "line": {
             "colorbar": {
              "outlinewidth": 0,
              "ticks": ""
             }
            },
            "marker": {
             "colorbar": {
              "outlinewidth": 0,
              "ticks": ""
             }
            },
            "type": "scatter3d"
           }
          ],
          "scattercarpet": [
           {
            "marker": {
             "colorbar": {
              "outlinewidth": 0,
              "ticks": ""
             }
            },
            "type": "scattercarpet"
           }
          ],
          "scattergeo": [
           {
            "marker": {
             "colorbar": {
              "outlinewidth": 0,
              "ticks": ""
             }
            },
            "type": "scattergeo"
           }
          ],
          "scattergl": [
           {
            "marker": {
             "colorbar": {
              "outlinewidth": 0,
              "ticks": ""
             }
            },
            "type": "scattergl"
           }
          ],
          "scattermapbox": [
           {
            "marker": {
             "colorbar": {
              "outlinewidth": 0,
              "ticks": ""
             }
            },
            "type": "scattermapbox"
           }
          ],
          "scatterpolar": [
           {
            "marker": {
             "colorbar": {
              "outlinewidth": 0,
              "ticks": ""
             }
            },
            "type": "scatterpolar"
           }
          ],
          "scatterpolargl": [
           {
            "marker": {
             "colorbar": {
              "outlinewidth": 0,
              "ticks": ""
             }
            },
            "type": "scatterpolargl"
           }
          ],
          "scatterternary": [
           {
            "marker": {
             "colorbar": {
              "outlinewidth": 0,
              "ticks": ""
             }
            },
            "type": "scatterternary"
           }
          ],
          "surface": [
           {
            "colorbar": {
             "outlinewidth": 0,
             "ticks": ""
            },
            "colorscale": [
             [
              0,
              "#0d0887"
             ],
             [
              0.1111111111111111,
              "#46039f"
             ],
             [
              0.2222222222222222,
              "#7201a8"
             ],
             [
              0.3333333333333333,
              "#9c179e"
             ],
             [
              0.4444444444444444,
              "#bd3786"
             ],
             [
              0.5555555555555556,
              "#d8576b"
             ],
             [
              0.6666666666666666,
              "#ed7953"
             ],
             [
              0.7777777777777778,
              "#fb9f3a"
             ],
             [
              0.8888888888888888,
              "#fdca26"
             ],
             [
              1,
              "#f0f921"
             ]
            ],
            "type": "surface"
           }
          ],
          "table": [
           {
            "cells": {
             "fill": {
              "color": "#EBF0F8"
             },
             "line": {
              "color": "white"
             }
            },
            "header": {
             "fill": {
              "color": "#C8D4E3"
             },
             "line": {
              "color": "white"
             }
            },
            "type": "table"
           }
          ]
         },
         "layout": {
          "annotationdefaults": {
           "arrowcolor": "#2a3f5f",
           "arrowhead": 0,
           "arrowwidth": 1
          },
          "autotypenumbers": "strict",
          "coloraxis": {
           "colorbar": {
            "outlinewidth": 0,
            "ticks": ""
           }
          },
          "colorscale": {
           "diverging": [
            [
             0,
             "#8e0152"
            ],
            [
             0.1,
             "#c51b7d"
            ],
            [
             0.2,
             "#de77ae"
            ],
            [
             0.3,
             "#f1b6da"
            ],
            [
             0.4,
             "#fde0ef"
            ],
            [
             0.5,
             "#f7f7f7"
            ],
            [
             0.6,
             "#e6f5d0"
            ],
            [
             0.7,
             "#b8e186"
            ],
            [
             0.8,
             "#7fbc41"
            ],
            [
             0.9,
             "#4d9221"
            ],
            [
             1,
             "#276419"
            ]
           ],
           "sequential": [
            [
             0,
             "#0d0887"
            ],
            [
             0.1111111111111111,
             "#46039f"
            ],
            [
             0.2222222222222222,
             "#7201a8"
            ],
            [
             0.3333333333333333,
             "#9c179e"
            ],
            [
             0.4444444444444444,
             "#bd3786"
            ],
            [
             0.5555555555555556,
             "#d8576b"
            ],
            [
             0.6666666666666666,
             "#ed7953"
            ],
            [
             0.7777777777777778,
             "#fb9f3a"
            ],
            [
             0.8888888888888888,
             "#fdca26"
            ],
            [
             1,
             "#f0f921"
            ]
           ],
           "sequentialminus": [
            [
             0,
             "#0d0887"
            ],
            [
             0.1111111111111111,
             "#46039f"
            ],
            [
             0.2222222222222222,
             "#7201a8"
            ],
            [
             0.3333333333333333,
             "#9c179e"
            ],
            [
             0.4444444444444444,
             "#bd3786"
            ],
            [
             0.5555555555555556,
             "#d8576b"
            ],
            [
             0.6666666666666666,
             "#ed7953"
            ],
            [
             0.7777777777777778,
             "#fb9f3a"
            ],
            [
             0.8888888888888888,
             "#fdca26"
            ],
            [
             1,
             "#f0f921"
            ]
           ]
          },
          "colorway": [
           "#636efa",
           "#EF553B",
           "#00cc96",
           "#ab63fa",
           "#FFA15A",
           "#19d3f3",
           "#FF6692",
           "#B6E880",
           "#FF97FF",
           "#FECB52"
          ],
          "font": {
           "color": "#2a3f5f"
          },
          "geo": {
           "bgcolor": "white",
           "lakecolor": "white",
           "landcolor": "#E5ECF6",
           "showlakes": true,
           "showland": true,
           "subunitcolor": "white"
          },
          "hoverlabel": {
           "align": "left"
          },
          "hovermode": "closest",
          "mapbox": {
           "style": "light"
          },
          "paper_bgcolor": "white",
          "plot_bgcolor": "#E5ECF6",
          "polar": {
           "angularaxis": {
            "gridcolor": "white",
            "linecolor": "white",
            "ticks": ""
           },
           "bgcolor": "#E5ECF6",
           "radialaxis": {
            "gridcolor": "white",
            "linecolor": "white",
            "ticks": ""
           }
          },
          "scene": {
           "xaxis": {
            "backgroundcolor": "#E5ECF6",
            "gridcolor": "white",
            "gridwidth": 2,
            "linecolor": "white",
            "showbackground": true,
            "ticks": "",
            "zerolinecolor": "white"
           },
           "yaxis": {
            "backgroundcolor": "#E5ECF6",
            "gridcolor": "white",
            "gridwidth": 2,
            "linecolor": "white",
            "showbackground": true,
            "ticks": "",
            "zerolinecolor": "white"
           },
           "zaxis": {
            "backgroundcolor": "#E5ECF6",
            "gridcolor": "white",
            "gridwidth": 2,
            "linecolor": "white",
            "showbackground": true,
            "ticks": "",
            "zerolinecolor": "white"
           }
          },
          "shapedefaults": {
           "line": {
            "color": "#2a3f5f"
           }
          },
          "ternary": {
           "aaxis": {
            "gridcolor": "white",
            "linecolor": "white",
            "ticks": ""
           },
           "baxis": {
            "gridcolor": "white",
            "linecolor": "white",
            "ticks": ""
           },
           "bgcolor": "#E5ECF6",
           "caxis": {
            "gridcolor": "white",
            "linecolor": "white",
            "ticks": ""
           }
          },
          "title": {
           "x": 0.05
          },
          "xaxis": {
           "automargin": true,
           "gridcolor": "white",
           "linecolor": "white",
           "ticks": "",
           "title": {
            "standoff": 15
           },
           "zerolinecolor": "white",
           "zerolinewidth": 2
          },
          "yaxis": {
           "automargin": true,
           "gridcolor": "white",
           "linecolor": "white",
           "ticks": "",
           "title": {
            "standoff": 15
           },
           "zerolinecolor": "white",
           "zerolinewidth": 2
          }
         }
        },
        "title": {
         "text": "Altas laborales según sectores de hostelería "
        },
        "xaxis": {
         "ticklen": 5,
         "title": {
          "text": "Años"
         }
        }
       }
      }
     },
     "metadata": {}
    }
   ],
   "metadata": {}
  },
  {
   "cell_type": "markdown",
   "source": [
    "Aca se explica la temporalidad del turismo en Madrid, tanto para Comidas (F&B) y Alojamientos (Hoteles), al no ser una zona de Sol y Playa, el turismo es estacional, y verano suele ser de muy baja afluencia, siendo básicamente solo una ciudad de escala, lo cual se confirma con las altas laborales de la Seguridad Social. "
   ],
   "metadata": {}
  },
  {
   "cell_type": "code",
   "execution_count": 36,
   "source": [
    "std_scale = preprocessing.StandardScaler().fit(df_Occ_ADR[['Emple_estab_hotel_Mad', 'ADR_Madrid']])\n",
    "df_std = std_scale.transform(df_Occ_ADR[['Emple_estab_hotel_Mad', 'ADR_Madrid']])\n",
    "df_std"
   ],
   "outputs": [
    {
     "output_type": "execute_result",
     "data": {
      "text/plain": [
       "array([[ 0.62156012,  0.35291168],\n",
       "       [ 0.67113436,  0.55069656],\n",
       "       [ 0.66238596,  0.40570174],\n",
       "       [ 0.64626623,  0.64403964],\n",
       "       [ 0.64594222,  0.21474684],\n",
       "       [ 0.69721754,  0.72073464],\n",
       "       [ 0.73512725,  0.51626207],\n",
       "       [ 0.87672164,  1.06949057],\n",
       "       [ 0.8316026 ,  0.50402502],\n",
       "       [ 0.91252526,  0.97344396],\n",
       "       [ 0.50548188,  0.33597901],\n",
       "       [-2.16115851, -3.24904985],\n",
       "       [-1.45261952, -0.78598775],\n",
       "       [-1.219653  , -0.87705417],\n",
       "       [-1.16481353, -0.74244662],\n",
       "       [-0.73703322, -0.37661573],\n",
       "       [-1.07068728, -0.25687762]])"
      ]
     },
     "metadata": {},
     "execution_count": 36
    }
   ],
   "metadata": {}
  },
  {
   "cell_type": "code",
   "execution_count": 37,
   "source": [
    "minmax_scale = preprocessing.MinMaxScaler().fit(df_Occ_ADR[['Emple_estab_hotel_Mad', 'ADR_Madrid']])\n",
    "df_minmax = minmax_scale.transform(df_Occ_ADR[['Emple_estab_hotel_Mad', 'ADR_Madrid']])"
   ],
   "outputs": [],
   "metadata": {}
  },
  {
   "cell_type": "code",
   "execution_count": 38,
   "source": [
    "df_hoteles_y = df_hoteles.groupby(\"Year\").mean()\n",
    "df_hoteles_y = df_hoteles_y.reset_index()\n",
    "df_hoteles_y"
   ],
   "outputs": [
    {
     "output_type": "execute_result",
     "data": {
      "text/html": [
       "<div>\n",
       "<style scoped>\n",
       "    .dataframe tbody tr th:only-of-type {\n",
       "        vertical-align: middle;\n",
       "    }\n",
       "\n",
       "    .dataframe tbody tr th {\n",
       "        vertical-align: top;\n",
       "    }\n",
       "\n",
       "    .dataframe thead th {\n",
       "        text-align: right;\n",
       "    }\n",
       "</style>\n",
       "<table border=\"1\" class=\"dataframe\">\n",
       "  <thead>\n",
       "    <tr style=\"text-align: right;\">\n",
       "      <th></th>\n",
       "      <th>Year</th>\n",
       "      <th>Emple_estab_hotel_Mad</th>\n",
       "      <th>Occ_que_no _trab_ERTE_miles</th>\n",
       "      <th>Estab_Abiertos_Mad</th>\n",
       "      <th>Occ_Hot_Madrid</th>\n",
       "    </tr>\n",
       "  </thead>\n",
       "  <tbody>\n",
       "    <tr>\n",
       "      <th>0</th>\n",
       "      <td>2017</td>\n",
       "      <td>34659.000000</td>\n",
       "      <td>1.500</td>\n",
       "      <td>2320.000000</td>\n",
       "      <td>63.5700</td>\n",
       "    </tr>\n",
       "    <tr>\n",
       "      <th>1</th>\n",
       "      <td>2018</td>\n",
       "      <td>34864.000000</td>\n",
       "      <td>1.475</td>\n",
       "      <td>2327.500000</td>\n",
       "      <td>62.5275</td>\n",
       "    </tr>\n",
       "    <tr>\n",
       "      <th>2</th>\n",
       "      <td>2019</td>\n",
       "      <td>37037.250000</td>\n",
       "      <td>1.500</td>\n",
       "      <td>2545.250000</td>\n",
       "      <td>64.2925</td>\n",
       "    </tr>\n",
       "    <tr>\n",
       "      <th>3</th>\n",
       "      <td>2020</td>\n",
       "      <td>13322.500000</td>\n",
       "      <td>673.450</td>\n",
       "      <td>1343.500000</td>\n",
       "      <td>26.7975</td>\n",
       "    </tr>\n",
       "    <tr>\n",
       "      <th>4</th>\n",
       "      <td>2021</td>\n",
       "      <td>14447.666667</td>\n",
       "      <td>0.000</td>\n",
       "      <td>1423.333333</td>\n",
       "      <td>27.6100</td>\n",
       "    </tr>\n",
       "  </tbody>\n",
       "</table>\n",
       "</div>"
      ],
      "text/plain": [
       "   Year  Emple_estab_hotel_Mad  Occ_que_no _trab_ERTE_miles  \\\n",
       "0  2017           34659.000000                        1.500   \n",
       "1  2018           34864.000000                        1.475   \n",
       "2  2019           37037.250000                        1.500   \n",
       "3  2020           13322.500000                      673.450   \n",
       "4  2021           14447.666667                        0.000   \n",
       "\n",
       "   Estab_Abiertos_Mad  Occ_Hot_Madrid  \n",
       "0         2320.000000         63.5700  \n",
       "1         2327.500000         62.5275  \n",
       "2         2545.250000         64.2925  \n",
       "3         1343.500000         26.7975  \n",
       "4         1423.333333         27.6100  "
      ]
     },
     "metadata": {},
     "execution_count": 38
    }
   ],
   "metadata": {}
  },
  {
   "cell_type": "code",
   "execution_count": 39,
   "source": [
    "std_scale = preprocessing.StandardScaler().fit(df_hoteles_y[[\"Emple_estab_hotel_Mad\",\"Occ_que_no _trab_ERTE_miles\", \"Estab_Abiertos_Mad\", \"Occ_Hot_Madrid\"]])\n",
    "df_std = std_scale.transform(df_hoteles_y[[\"Emple_estab_hotel_Mad\",\"Occ_que_no _trab_ERTE_miles\", \"Estab_Abiertos_Mad\", \"Occ_Hot_Madrid\"]])\n",
    "df_std_1 = pd.DataFrame(df_std)\n",
    "df_std_1"
   ],
   "outputs": [
    {
     "output_type": "execute_result",
     "data": {
      "text/html": [
       "<div>\n",
       "<style scoped>\n",
       "    .dataframe tbody tr th:only-of-type {\n",
       "        vertical-align: middle;\n",
       "    }\n",
       "\n",
       "    .dataframe tbody tr th {\n",
       "        vertical-align: top;\n",
       "    }\n",
       "\n",
       "    .dataframe thead th {\n",
       "        text-align: right;\n",
       "    }\n",
       "</style>\n",
       "<table border=\"1\" class=\"dataframe\">\n",
       "  <thead>\n",
       "    <tr style=\"text-align: right;\">\n",
       "      <th></th>\n",
       "      <th>0</th>\n",
       "      <th>1</th>\n",
       "      <th>2</th>\n",
       "      <th>3</th>\n",
       "    </tr>\n",
       "  </thead>\n",
       "  <tbody>\n",
       "    <tr>\n",
       "      <th>0</th>\n",
       "      <td>0.732581</td>\n",
       "      <td>-0.498581</td>\n",
       "      <td>0.650938</td>\n",
       "      <td>0.822005</td>\n",
       "    </tr>\n",
       "    <tr>\n",
       "      <th>1</th>\n",
       "      <td>0.751852</td>\n",
       "      <td>-0.498674</td>\n",
       "      <td>0.665818</td>\n",
       "      <td>0.763353</td>\n",
       "    </tr>\n",
       "    <tr>\n",
       "      <th>2</th>\n",
       "      <td>0.956151</td>\n",
       "      <td>-0.498581</td>\n",
       "      <td>1.097847</td>\n",
       "      <td>0.862654</td>\n",
       "    </tr>\n",
       "    <tr>\n",
       "      <th>3</th>\n",
       "      <td>-1.273178</td>\n",
       "      <td>1.999995</td>\n",
       "      <td>-1.286499</td>\n",
       "      <td>-1.246862</td>\n",
       "    </tr>\n",
       "    <tr>\n",
       "      <th>4</th>\n",
       "      <td>-1.167406</td>\n",
       "      <td>-0.504159</td>\n",
       "      <td>-1.128104</td>\n",
       "      <td>-1.201150</td>\n",
       "    </tr>\n",
       "  </tbody>\n",
       "</table>\n",
       "</div>"
      ],
      "text/plain": [
       "          0         1         2         3\n",
       "0  0.732581 -0.498581  0.650938  0.822005\n",
       "1  0.751852 -0.498674  0.665818  0.763353\n",
       "2  0.956151 -0.498581  1.097847  0.862654\n",
       "3 -1.273178  1.999995 -1.286499 -1.246862\n",
       "4 -1.167406 -0.504159 -1.128104 -1.201150"
      ]
     },
     "metadata": {},
     "execution_count": 39
    }
   ],
   "metadata": {}
  },
  {
   "cell_type": "code",
   "execution_count": 40,
   "source": [
    "\n",
    "def plot_1(df_std):\n",
    "    plt.figure(figsize=(8,6))\n",
    "\n",
    "    plt.scatter(df_std[:,0], df_std[:,1], \n",
    "            color='green', label='input scale', alpha=0.5)\n",
    "\n",
    "    plt.scatter(df_std[:,0], df_std[:,1], color='red', \n",
    "            label='Standardized [$N  (\\mu=0, \\; \\sigma=1)$]', alpha=0.3)\n",
    "\n",
    "    plt.scatter(df_minmax[:,0], df_minmax[:,1], \n",
    "            color='blue', label='min-max scaled [min=0, max=1]', alpha=0.3)\n",
    "\n",
    "    plt.title('Ocupacion hotelera vs Cant de empleados contratados')\n",
    "    plt.xlabel('Emple_estab_hotel_Mad')\n",
    "    plt.ylabel('ADR_Madrid')\n",
    "    plt.legend(loc='upper left')\n",
    "    plt.grid()\n",
    "    \n",
    "    plt.tight_layout()\n",
    "    plt.show()"
   ],
   "outputs": [],
   "metadata": {}
  },
  {
   "cell_type": "code",
   "execution_count": 41,
   "source": [
    "plot_1(df_std)"
   ],
   "outputs": [
    {
     "output_type": "display_data",
     "data": {
      "image/png": "[encoded data removed]",
      "text/plain": [
       "<Figure size 576x432 with 1 Axes>"
      ]
     },
     "metadata": {
      "needs_background": "light"
     }
    }
   ],
   "metadata": {}
  },
  {
   "cell_type": "code",
   "execution_count": 50,
   "source": [
    "plt.figure(figsize = (14,5))\n",
    "plt.plot(df_tabla_salarios.index, df_tabla_salarios[\"Mujeres\"], 'og', label = 'Cant. de Empleos')\n",
    "plt.xticks(rotation=90)\n",
    "plt.show()"
   ],
   "outputs": [
    {
     "output_type": "display_data",
     "data": {
      "image/png": "[encoded data removed]",
      "text/plain": [
       "<Figure size 1008x360 with 1 Axes>"
      ]
     },
     "metadata": {
      "needs_background": "light"
     }
    }
   ],
   "metadata": {}
  },
  {
   "cell_type": "code",
   "execution_count": 44,
   "source": [
    "serie_1 = df_tabla_salarios[\"Mujeres\"]\n",
    "serie_2 = df_tabla_salarios[\"Hombres\"]\n",
    " \n",
    " \n",
    "numero_de_grupos = len(serie_1)\n",
    "indice_barras = np.arange(numero_de_grupos)\n",
    "ancho_barras =0.35\n",
    "plt.figure(figsize = (14,5))\n",
    "plt.bar(indice_barras, serie_1, width=ancho_barras, label='Mujeres')\n",
    "plt.bar(indice_barras + ancho_barras, serie_2, width=ancho_barras, label='Hombres')\n",
    "plt.legend(loc='best')\n",
    "## Se colocan los indicadores en el eje x\n",
    "plt.xticks(indice_barras + ancho_barras, df_tabla_salarios.index)\n",
    "plt.xticks(rotation=90) \n",
    "plt.ylabel('Salario')\n",
    "plt.xlabel('Sectores')\n",
    "plt.title('Salario por Sector')\n",
    " \n",
    "plt.show()"
   ],
   "outputs": [
    {
     "output_type": "display_data",
     "data": {
      "image/png": "[encoded data removed]",
      "text/plain": [
       "<Figure size 1008x360 with 1 Axes>"
      ]
     },
     "metadata": {
      "needs_background": "light"
     }
    }
   ],
   "metadata": {}
  },
  {
   "cell_type": "markdown",
   "source": [
    "*************"
   ],
   "metadata": {}
  },
  {
   "cell_type": "markdown",
   "source": [
    "## Conclusiones\n",
    "\n",
    "Se ha elegido el tema, ya que luego de 8 años de trabajo en Hoteles de lujo 5 estrellas, se tiene conocimiento del negocio, lo cual facilita la interpretación de los mismos, y la búsqueda de información pertinente y relevante. \n",
    "\n",
    "Por tal razón se ha planteado la hipótesis basada en la experiencia de dicho trabajo, al ser una hipótesis empírica basada en la intuición, una vez se compara con los datos, podemos ver la correlación entre las variables y como el COVID a modificado los comportamientos habituales.   \n",
    "\n",
    "La calidad y veracidad de los datos esta garantizada ya que son extraídos de Entes gubernamentales e internacionales y especialistas en el área de Turismo. En relación a la disponibilidad el problema está que, con la pandemia, muchos de los datos que solían estar disponibles en el primer trimestre del año, aun no han sido publicados, posiblemente por que aun no se han procesado o porque no se pudieron extraer. \n",
    "    \n",
    "Es de acotar que los datos obtenidos se refieren a la Hostelería de Madrid en general y que, si se extrapolaran los valores por tipo de hoteles según estrellas, posiblemente podríamos encontrar cambios, ya que el comportamiento de un Hotel perteneciente a una Cadena Hotelera Internacional , no será igual al pequeño hostelero que le cuesta mantenerse a flote.\n",
    "\n",
    "Para un próximo estudio se pueden analizar mas variables como: el sexo, y el tipo de hoteles (estrellas), los casos de COVID por países de proveniencia de turista a Madrid, las fechas especificas de cierres de fronteras y restricciones de los mismos, entre otras. Que por cumplimiento de fechas de entrega no han dado tiempo de verificar. \n"
   ],
   "metadata": {}
  }
 ],
 "metadata": {
  "orig_nbformat": 4,
  "language_info": {
   "name": "python",
   "version": "3.7.4",
   "mimetype": "text/x-python",
   "codemirror_mode": {
    "name": "ipython",
    "version": 3
   },
   "pygments_lexer": "ipython3",
   "nbconvert_exporter": "python",
   "file_extension": ".py"
  },
  "kernelspec": {
   "name": "python3",
   "display_name": "Python 3.7.4 64-bit"
  },
  "interpreter": {
   "hash": "aee8b7b246df8f9039afb4144a1f6fd8d2ca17a180786b69acc140d282b71a49"
  }
 },
 "nbformat": 4,
 "nbformat_minor": 2
}